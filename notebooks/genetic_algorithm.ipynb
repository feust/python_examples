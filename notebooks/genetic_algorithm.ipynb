{
 "cells": [
  {
   "cell_type": "markdown",
   "id": "1ff6661c-82c7-4bb0-bd1b-c46ce7928dea",
   "metadata": {},
   "source": [
    "# Preliminaries\n",
    "\n",
    "## Objective\n",
    "\n",
    "Minimal example for an optimisation via genetic algorithm.\n",
    "\n",
    "## References\n",
    "- https://machinelearningmastery.com/simple-genetic-algorithm-from-scratch-in-python/\n",
    "- S. Russell and P. Norvig, Artificial Intelligence A Modern Approach, third edition, p.129\n",
    "\n",
    "## Imports"
   ]
  },
  {
   "cell_type": "code",
   "execution_count": 1,
   "id": "3934104f-2cbc-49c6-b6bc-5cfdbdf88c3b",
   "metadata": {},
   "outputs": [],
   "source": [
    "import matplotlib.pyplot as plt\n",
    "import pandas as pd\n",
    "import numpy as np"
   ]
  },
  {
   "cell_type": "markdown",
   "id": "7e9d2371-ae7b-4398-819f-84af65ae4a15",
   "metadata": {},
   "source": [
    "# Settings"
   ]
  },
  {
   "cell_type": "code",
   "execution_count": 2,
   "id": "88425cf5-bc10-43ec-85e0-8b2590b62a58",
   "metadata": {},
   "outputs": [],
   "source": [
    "SEED = 42\n",
    "\n",
    "N_POP = 10      # population size (with 4 orders, there are only 16 binary combinations)\n",
    "N_BITS = 10     # lenght of an individual\n",
    "N_GEN = 50      # number of generations\n",
    "N_COMP = 3      # number of other individuals each population member is compared to during selection\n",
    "P_CROSS = 0.3   # crossover probability\n",
    "P_MUT = 0.05    # mutation probability, could be set to 1/n_bits"
   ]
  },
  {
   "cell_type": "code",
   "execution_count": 3,
   "id": "e76bc94c-cd87-4e2e-ae4a-2c9160632211",
   "metadata": {},
   "outputs": [],
   "source": [
    "assert N_POP % 2 == 0, \"population size must be even\""
   ]
  },
  {
   "cell_type": "markdown",
   "id": "3a430dd9-8376-49ca-8241-5d256d1dcbc6",
   "metadata": {},
   "source": [
    "# Genetic algorithm"
   ]
  },
  {
   "cell_type": "markdown",
   "id": "90f790e5-36c3-4fa3-9a6d-29f17acaeaca",
   "metadata": {},
   "source": [
    "## Dummy population\n",
    "\n",
    "An individual is represented by a bit string of the form `[1, 0, 0, 0, 1, 0, 0, 0, 0, 1]`. We start by creating a population."
   ]
  },
  {
   "cell_type": "code",
   "execution_count": 4,
   "id": "511f2b82-9809-47d0-8675-e521892c8b75",
   "metadata": {},
   "outputs": [],
   "source": [
    "# np.random.seed(SEED)\n",
    "# pop = np.array([np.random.randint(0, 2, N_BITS).tolist() for _ in range(N_POP)])\n",
    "# pop"
   ]
  },
  {
   "cell_type": "code",
   "execution_count": 5,
   "id": "2c009c67-7c09-40e8-b250-68dbc86cedae",
   "metadata": {},
   "outputs": [
    {
     "data": {
      "text/plain": [
       "array([[0., 0., 0., 0., 0., 0., 0., 0., 0., 0.],\n",
       "       [0., 0., 0., 0., 0., 0., 0., 0., 0., 0.],\n",
       "       [0., 0., 0., 0., 0., 0., 0., 0., 0., 0.],\n",
       "       [0., 0., 0., 0., 0., 0., 0., 0., 0., 0.],\n",
       "       [0., 0., 0., 0., 0., 0., 0., 0., 0., 0.],\n",
       "       [0., 0., 0., 0., 0., 0., 0., 0., 0., 0.],\n",
       "       [0., 0., 0., 0., 0., 0., 0., 0., 0., 0.],\n",
       "       [0., 0., 0., 0., 0., 0., 0., 0., 0., 0.],\n",
       "       [0., 0., 0., 0., 0., 0., 0., 0., 0., 0.],\n",
       "       [0., 0., 0., 0., 0., 0., 0., 0., 0., 0.]])"
      ]
     },
     "execution_count": 5,
     "metadata": {},
     "output_type": "execute_result"
    }
   ],
   "source": [
    "pop = np.zeros((N_POP, N_BITS))\n",
    "pop"
   ]
  },
  {
   "cell_type": "code",
   "execution_count": 6,
   "id": "5087bcc2-49cf-45b0-a033-3fa8f980386e",
   "metadata": {},
   "outputs": [
    {
     "data": {
      "text/plain": [
       "array([[0., 0., 0., 0., 0., 0., 0., 0., 0., 0.],\n",
       "       [0., 0., 0., 0., 0., 0., 0., 0., 0., 0.],\n",
       "       [0., 0., 0., 0., 0., 0., 0., 0., 0., 0.],\n",
       "       [0., 0., 0., 0., 1., 0., 0., 0., 0., 0.],\n",
       "       [0., 0., 0., 0., 0., 0., 0., 0., 0., 0.],\n",
       "       [0., 0., 0., 0., 0., 0., 1., 0., 0., 0.],\n",
       "       [0., 0., 0., 0., 0., 0., 0., 0., 0., 0.],\n",
       "       [0., 0., 0., 0., 0., 0., 0., 0., 0., 0.],\n",
       "       [0., 0., 0., 0., 0., 0., 0., 0., 0., 0.],\n",
       "       [0., 0., 0., 0., 0., 0., 1., 0., 0., 0.]])"
      ]
     },
     "execution_count": 6,
     "metadata": {},
     "output_type": "execute_result"
    }
   ],
   "source": [
    "for i in range(3):\n",
    "    row, col = np.random.randint(0, N_POP), np.random.randint(0, N_BITS)\n",
    "    pop[row, col] = 1\n",
    "pop"
   ]
  },
  {
   "cell_type": "markdown",
   "id": "bd0a1345-918d-4016-a11d-c66bd9ddf056",
   "metadata": {},
   "source": [
    "## Dummy fitness\n",
    "\n",
    "For this simply demonstration, we define the *fitness* as the sum over an individual vector. The optimum solution thus is trivially equal to the length of the individual vectors."
   ]
  },
  {
   "cell_type": "code",
   "execution_count": 7,
   "id": "b96bad40-bc81-4c1a-86b2-dc77827ff13f",
   "metadata": {},
   "outputs": [],
   "source": [
    "def objective(individual):\n",
    "    \"\"\"\n",
    "    trivial fitness score\n",
    "    \"\"\"\n",
    "    fitness = individual.sum()\n",
    "    return fitness"
   ]
  },
  {
   "cell_type": "code",
   "execution_count": 8,
   "id": "71a75f89-afd6-4a6b-b558-99d6e413412f",
   "metadata": {},
   "outputs": [
    {
     "data": {
      "text/plain": [
       "array([0., 0., 0., 1., 0., 1., 0., 0., 0., 1.])"
      ]
     },
     "execution_count": 8,
     "metadata": {},
     "output_type": "execute_result"
    }
   ],
   "source": [
    "scores = np.array([objective(ind) for ind in pop])\n",
    "scores"
   ]
  },
  {
   "cell_type": "markdown",
   "id": "b966e669-0271-484a-9cc1-2f8b87720d9d",
   "metadata": {},
   "source": [
    "## Selection\n",
    "Choose a random individual from the population and compare its score again N_COMP other random individuals and keep the one with the highest score. Do this N_POP times to select a new set of individuals."
   ]
  },
  {
   "cell_type": "code",
   "execution_count": 9,
   "id": "b1732206-361f-44de-8962-42415fe184d6",
   "metadata": {},
   "outputs": [],
   "source": [
    "def selection(pop, scores, k=N_COMP):\n",
    "    selection_idx = np.random.randint(len(pop)) # select a random individual\n",
    "    # compare to k other random indivuduals and keep the one with the best score\n",
    "    for idx in np.random.randint(0, len(pop), k):\n",
    "        if scores[idx] > scores[selection_idx]:\n",
    "            selection_idx = idx\n",
    "    return pop[selection_idx]"
   ]
  },
  {
   "cell_type": "code",
   "execution_count": 10,
   "id": "a0e01a8c-848b-4b12-93dc-e3b63133381e",
   "metadata": {},
   "outputs": [
    {
     "data": {
      "text/plain": [
       "array([[0., 0., 0., 0., 0., 0., 1., 0., 0., 0.],\n",
       "       [0., 0., 0., 0., 0., 0., 1., 0., 0., 0.],\n",
       "       [0., 0., 0., 0., 0., 0., 1., 0., 0., 0.],\n",
       "       [0., 0., 0., 0., 0., 0., 1., 0., 0., 0.],\n",
       "       [0., 0., 0., 0., 0., 0., 1., 0., 0., 0.],\n",
       "       [0., 0., 0., 0., 0., 0., 0., 0., 0., 0.],\n",
       "       [0., 0., 0., 0., 0., 0., 1., 0., 0., 0.],\n",
       "       [0., 0., 0., 0., 1., 0., 0., 0., 0., 0.],\n",
       "       [0., 0., 0., 0., 0., 0., 0., 0., 0., 0.],\n",
       "       [0., 0., 0., 0., 0., 0., 0., 0., 0., 0.]])"
      ]
     },
     "execution_count": 10,
     "metadata": {},
     "output_type": "execute_result"
    }
   ],
   "source": [
    "np.array([selection(pop, scores) for _ in range(N_POP)])"
   ]
  },
  {
   "cell_type": "markdown",
   "id": "d466df4c-1601-40fe-b3b1-cf39ed2f187e",
   "metadata": {},
   "source": [
    "## Crossover"
   ]
  },
  {
   "cell_type": "code",
   "execution_count": 11,
   "id": "6e87412e-478f-423c-95cd-6dc9f13cb0dd",
   "metadata": {},
   "outputs": [],
   "source": [
    "def crossover(ind1, ind2, p_cross=P_CROSS):\n",
    "    if np.random.rand() < p_cross:\n",
    "        split_index = np.random.randint(1, len(ind1)-1)\n",
    "        ind1 = np.concatenate((ind1[:split_index], ind2[split_index:]))\n",
    "        ind2 = np.concatenate((ind2[:split_index], ind1[split_index:]))\n",
    "    return [ind1, ind2]"
   ]
  },
  {
   "cell_type": "code",
   "execution_count": 12,
   "id": "dfa6cb07-1021-4f8b-98b7-d508cf921c05",
   "metadata": {},
   "outputs": [
    {
     "name": "stdout",
     "output_type": "stream",
     "text": [
      "[0. 0. 0. 0. 0. 0. 0. 0. 0. 0.]\n",
      "[0. 0. 0. 0. 0. 0. 0. 0. 0. 0.]\n",
      "after crossover\n",
      "[0. 0. 0. 0. 0. 0. 0. 0. 0. 0.]\n",
      "[0. 0. 0. 0. 0. 0. 0. 0. 0. 0.]\n"
     ]
    }
   ],
   "source": [
    "ind1 = pop[0]\n",
    "ind2 = pop[1]\n",
    "\n",
    "print(ind1)\n",
    "print(ind2)\n",
    "\n",
    "new_ind1, new_ind2 = crossover(ind1, ind2)\n",
    "\n",
    "print(\"after crossover\")\n",
    "print(new_ind1)\n",
    "print(new_ind2)"
   ]
  },
  {
   "cell_type": "markdown",
   "id": "a251e3f6-2db5-4446-b0d6-7fb8df247d52",
   "metadata": {},
   "source": [
    "## Mutation"
   ]
  },
  {
   "cell_type": "code",
   "execution_count": 13,
   "id": "55339167-838e-4cd5-a0a8-b9d247d59c8e",
   "metadata": {},
   "outputs": [],
   "source": [
    "def mutation(ind, p_mut=P_MUT):\n",
    "    mut_ind = np.array([not x if np.random.rand() < p_mut else x for x in ind]).astype(int)\n",
    "    return mut_ind"
   ]
  },
  {
   "cell_type": "code",
   "execution_count": 14,
   "id": "0624903f-95b1-40ee-8f78-b5cd7f2569e0",
   "metadata": {},
   "outputs": [
    {
     "name": "stdout",
     "output_type": "stream",
     "text": [
      "[0. 0. 0. 0. 0. 0. 0. 0. 0. 0.] -> [0 0 0 0 0 0 0 0 0 1] \n",
      "\n",
      "[0. 0. 0. 0. 0. 0. 0. 0. 0. 0.] -> [0 0 0 0 0 0 0 0 0 0] \n",
      "\n",
      "[0. 0. 0. 0. 0. 0. 0. 0. 0. 0.] -> [0 0 0 0 0 0 0 0 0 0] \n",
      "\n",
      "[0. 0. 0. 0. 0. 0. 0. 0. 0. 0.] -> [1 0 0 0 0 0 0 0 0 0] \n",
      "\n",
      "[0. 0. 0. 0. 0. 0. 0. 0. 0. 0.] -> [0 0 0 0 0 0 0 0 0 0] \n",
      "\n",
      "[0. 0. 0. 0. 0. 0. 0. 0. 0. 0.] -> [0 0 0 0 0 0 0 0 0 0] \n",
      "\n",
      "[0. 0. 0. 0. 0. 0. 0. 0. 0. 0.] -> [0 0 0 0 0 0 0 0 0 0] \n",
      "\n",
      "[0. 0. 0. 0. 0. 0. 0. 0. 0. 0.] -> [0 0 0 0 0 0 0 0 0 0] \n",
      "\n",
      "[0. 0. 0. 0. 0. 0. 0. 0. 0. 0.] -> [1 0 0 0 0 0 0 0 0 0] \n",
      "\n",
      "[0. 0. 0. 0. 0. 0. 0. 0. 0. 0.] -> [0 0 0 0 0 0 0 0 0 1] \n",
      "\n"
     ]
    }
   ],
   "source": [
    "for i in range(10):\n",
    "    mut_ind = mutation(ind1)\n",
    "    print(ind1, \"->\", mut_ind, \"\\n\")"
   ]
  },
  {
   "cell_type": "markdown",
   "id": "35937af7-8929-450c-81b0-2f7cc13d0e38",
   "metadata": {},
   "source": [
    "## Create the next generation"
   ]
  },
  {
   "cell_type": "code",
   "execution_count": 15,
   "id": "c19aaf02-1bda-4e0b-960f-2eef4e227179",
   "metadata": {},
   "outputs": [],
   "source": [
    "def next_generation(pop, scores):\n",
    "    children = []\n",
    "    selected = np.array([selection(pop, scores) for _ in range(N_POP)])\n",
    "    for i in range(0, N_POP, 2):\n",
    "        parent1, parent2 = selected[i], selected[i+1]\n",
    "        for c in crossover(parent1, parent2):\n",
    "            children.append(mutation(c))\n",
    "\n",
    "    return np.array(children)"
   ]
  },
  {
   "cell_type": "code",
   "execution_count": 16,
   "id": "e1e4c9e8-9064-4c91-b0d0-965c9ba3d861",
   "metadata": {},
   "outputs": [
    {
     "data": {
      "text/plain": [
       "array([[0, 1, 0, 0, 1, 0, 0, 0, 0, 0],\n",
       "       [0, 0, 0, 0, 1, 0, 0, 0, 0, 0],\n",
       "       [0, 0, 0, 0, 1, 0, 0, 0, 0, 0],\n",
       "       [0, 0, 0, 0, 0, 0, 1, 0, 0, 0],\n",
       "       [0, 0, 0, 0, 0, 0, 1, 0, 0, 0],\n",
       "       [0, 0, 0, 0, 0, 0, 1, 0, 0, 0],\n",
       "       [0, 0, 0, 0, 0, 0, 0, 0, 0, 0],\n",
       "       [0, 0, 0, 0, 1, 0, 1, 1, 0, 0],\n",
       "       [0, 0, 0, 1, 1, 0, 1, 0, 0, 0],\n",
       "       [0, 0, 0, 0, 0, 0, 1, 0, 0, 0]])"
      ]
     },
     "execution_count": 16,
     "metadata": {},
     "output_type": "execute_result"
    }
   ],
   "source": [
    "next_generation(pop, scores)"
   ]
  },
  {
   "cell_type": "markdown",
   "id": "daaa4f64-42b5-4cd6-97ad-04ef3e9c192b",
   "metadata": {},
   "source": [
    "## Evolution"
   ]
  },
  {
   "cell_type": "code",
   "execution_count": 17,
   "id": "b68a2f9b-b869-41c3-aca3-95b49c3ead8c",
   "metadata": {},
   "outputs": [
    {
     "name": "stdout",
     "output_type": "stream",
     "text": [
      "Generation 0 out of 50: best score 2\n",
      "Generation 10 out of 50: best score 8\n",
      "Generation 20 out of 50: best score 10\n",
      "Generation 30 out of 50: best score 10\n",
      "Generation 40 out of 50: best score 10\n",
      "\n",
      "Best score: 10\n",
      "Best configureation: [1 1 1 1 1 1 1 1 1 1]\n"
     ]
    }
   ],
   "source": [
    "best_score = []\n",
    "best_ind = []\n",
    "\n",
    "for gen in range(N_GEN):\n",
    "    # calculate scores for the current generation\n",
    "    scores = np.array([objective(ind) for ind in pop])\n",
    "    # update population and scores for the next generation\n",
    "    pop = next_generation(pop, scores)\n",
    "    scores = np.array([objective(ind) for ind in pop])\n",
    "    \n",
    "    best_score.append(scores[scores.argmax()])\n",
    "    best_ind.append(pop[scores.argmax()])\n",
    "    if gen % 10 == 0:\n",
    "        print(f\"Generation {gen} out of {N_GEN}: best score {scores[scores.argmax()]}\")\n",
    "\n",
    "print(f\"\\nBest score: {best_score[np.array(best_score).argmax()]}\")\n",
    "print(f\"Best configureation: {np.array(best_ind)[np.array(best_score).argmax()]}\")"
   ]
  },
  {
   "cell_type": "markdown",
   "id": "2b73718c-a354-4517-a582-3d1525b0a4b4",
   "metadata": {},
   "source": [
    "# Evaluation"
   ]
  },
  {
   "cell_type": "code",
   "execution_count": 18,
   "id": "4da06d34-ae71-4375-88b9-c23bb29b3d4c",
   "metadata": {},
   "outputs": [
    {
     "data": {
      "image/png": "[encoded data removed]",
      "text/plain": [
       "<Figure size 432x288 with 1 Axes>"
      ]
     },
     "metadata": {
      "needs_background": "light"
     },
     "output_type": "display_data"
    }
   ],
   "source": [
    "plt.plot(best_score, 'o-');"
   ]
  },
  {
   "cell_type": "code",
   "execution_count": null,
   "id": "284de8c1-f227-4bb8-b48c-34112d302ec4",
   "metadata": {},
   "outputs": [],
   "source": []
  }
 ],
 "metadata": {
  "kernelspec": {
   "display_name": "Python 3 (ipykernel)",
   "language": "python",
   "name": "python3"
  },
  "language_info": {
   "codemirror_mode": {
    "name": "ipython",
    "version": 3
   },
   "file_extension": ".py",
   "mimetype": "text/x-python",
   "name": "python",
   "nbconvert_exporter": "python",
   "pygments_lexer": "ipython3",
   "version": "3.10.5"
  }
 },
 "nbformat": 4,
 "nbformat_minor": 5
}
