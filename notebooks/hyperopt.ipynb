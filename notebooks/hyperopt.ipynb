{
 "cells": [
  {
   "cell_type": "markdown",
   "id": "6befb98a-1281-400f-b0fe-29d1d46a0713",
   "metadata": {},
   "source": [
    "# References\n",
    "- https://towardsdatascience.com/a-conceptual-explanation-of-bayesian-model-based-hyperparameter-optimization-for-machine-learning-b8172278050f\n",
    "- https://proceedings.neurips.cc/paper/2011/file/86e8f7ab32cfd12577bc2619bc635690-Paper.pdf"
   ]
  },
  {
   "cell_type": "code",
   "execution_count": 1,
   "id": "a76cb284-cf67-4d56-a85e-c29e7c3b7643",
   "metadata": {},
   "outputs": [],
   "source": [
    "from hyperopt import fmin, tpe, hp, anneal, Trials"
   ]
  },
  {
   "cell_type": "code",
   "execution_count": 2,
   "id": "cc51026d-7a15-429b-9aa2-2d9f51138de4",
   "metadata": {},
   "outputs": [],
   "source": [
    "from sklearn.ensemble import RandomForestClassifier\n",
    "from sklearn.datasets import load_iris\n",
    "from sklearn.metrics import f1_score\n",
    "import numpy as np"
   ]
  },
  {
   "cell_type": "code",
   "execution_count": 3,
   "id": "d93aa4cd-20e9-46c0-beb2-22cb8445f84a",
   "metadata": {},
   "outputs": [],
   "source": [
    "data = load_iris()\n",
    "\n",
    "X = data['data']\n",
    "y = data['target']"
   ]
  },
  {
   "cell_type": "code",
   "execution_count": 4,
   "id": "d0f18874-eaa8-4e8e-9395-66b920b8d15d",
   "metadata": {},
   "outputs": [],
   "source": [
    "def rf_objective(params):\n",
    "    clf = RandomForestClassifier(\n",
    "        n_estimators=int(params['n_estimators']),\n",
    "        max_depth=int(params['max_depth']), \n",
    "        random_state=42)\n",
    "\n",
    "    clf.fit(X, y)\n",
    "    y_pred = clf.predict(X)\n",
    "    score = f1_score(y, y_pred, average='weighted')\n",
    "    \n",
    "    return -1*score"
   ]
  },
  {
   "cell_type": "code",
   "execution_count": 5,
   "id": "42caf609-e564-424a-a74e-1251fb3fc0d4",
   "metadata": {},
   "outputs": [],
   "source": [
    "# http://hyperopt.github.io/hyperopt/getting-started/search_spaces/\n",
    "\n",
    "space={'n_estimators': hp.quniform('n_estimators', 10, 1000, 1),\n",
    "       'max_depth': hp.quniform('max_depth', 1, 10, 1),\n",
    "      }"
   ]
  },
  {
   "cell_type": "code",
   "execution_count": 6,
   "id": "520ed3bd-0216-4e4e-97f5-4162165f614c",
   "metadata": {},
   "outputs": [],
   "source": [
    "trials = Trials()"
   ]
  },
  {
   "cell_type": "code",
   "execution_count": 7,
   "id": "787de2fa-7647-4efc-ba00-e33912b6d740",
   "metadata": {},
   "outputs": [
    {
     "name": "stdout",
     "output_type": "stream",
     "text": [
      "100%|█████████████████████████████████████████████████████████████████| 5/5 [00:00<00:00,  5.44trial/s, best loss: -1.0]\n"
     ]
    }
   ],
   "source": [
    "best=fmin(fn=rf_objective, \n",
    "          space=space, \n",
    "          algo=tpe.suggest,\n",
    "          max_evals=5, \n",
    "          trials=trials,\n",
    "          rstate=np.random.default_rng(42)\n",
    "         )"
   ]
  },
  {
   "cell_type": "code",
   "execution_count": 8,
   "id": "3823a3d0-515b-405e-b4eb-da48cf9fc98a",
   "metadata": {},
   "outputs": [
    {
     "data": {
      "text/plain": [
       "{'max_depth': 7.0, 'n_estimators': 816.0}"
      ]
     },
     "execution_count": 8,
     "metadata": {},
     "output_type": "execute_result"
    }
   ],
   "source": [
    "best"
   ]
  },
  {
   "cell_type": "code",
   "execution_count": 9,
   "id": "2371cacd-8b9c-4599-a89f-056b23d7cd5c",
   "metadata": {},
   "outputs": [
    {
     "data": {
      "text/plain": [
       "1.0"
      ]
     },
     "execution_count": 9,
     "metadata": {},
     "output_type": "execute_result"
    }
   ],
   "source": [
    "(-1)*rf_objective(best)"
   ]
  },
  {
   "cell_type": "code",
   "execution_count": null,
   "id": "f456e104-8b87-454d-9063-47d6f0380559",
   "metadata": {},
   "outputs": [],
   "source": []
  }
 ],
 "metadata": {
  "kernelspec": {
   "display_name": "Python 3 (ipykernel)",
   "language": "python",
   "name": "python3"
  },
  "language_info": {
   "codemirror_mode": {
    "name": "ipython",
    "version": 3
   },
   "file_extension": ".py",
   "mimetype": "text/x-python",
   "name": "python",
   "nbconvert_exporter": "python",
   "pygments_lexer": "ipython3",
   "version": "3.11.8"
  }
 },
 "nbformat": 4,
 "nbformat_minor": 5
}
