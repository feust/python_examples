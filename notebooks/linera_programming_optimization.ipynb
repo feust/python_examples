{
 "cells": [
  {
   "cell_type": "markdown",
   "id": "5b605db5-182d-4933-83e7-d0f0e03efd59",
   "metadata": {},
   "source": [
    "# Linerar programming optimization\n",
    "\n",
    "Follwoing [realpython](https://realpython.com/linear-programming-python/)"
   ]
  },
  {
   "cell_type": "markdown",
   "id": "750ff2e9-bf06-42e4-8313-35aa53b1a8f6",
   "metadata": {},
   "source": [
    "Linear programming is a set of techniques used in mathematical programming, sometimes called mathematical optimization, to solve systems of linear equations and inequalities while maximizing or minimizing some linear function.\n",
    "\n",
    "**Mixed-integer linear programming** is an extension of linear programming. It handles problems in which at least one variable takes a discrete integer rather than a continuous value. Although mixed-integer problems look similar to continuous variable problems at first sight, they offer significant advantages in terms of flexibility and precision.\n",
    "\n",
    "Mixed-integer linear programming allows you to overcome many of the limitations of linear programming. You can approximate non-linear functions with piecewise linear functions, use semi-continuous variables, model logical constraints, and more. "
   ]
  },
  {
   "cell_type": "markdown",
   "id": "42964704-127d-4b85-8478-0b75c7aa6477",
   "metadata": {},
   "source": [
    "## Small linear programming problem\n",
    "\n",
    "Consider the following linear programming problem:\n",
    "\n",
    "maximise\n",
    "\\begin{equation}\n",
    "z = x + 2y\n",
    "\\end{equation}\n",
    "subject to\n",
    "\\begin{eqnarray}\n",
    "2x + y &\\leq& 20 \\\\\n",
    "-4x + 5y &\\leq& 10 \\\\\n",
    "-x +2y &\\geq& -2 \\\\\n",
    "x &\\geq& 0 \\\\\n",
    "y &\\geq& 0\n",
    "\\end{eqnarray}"
   ]
  },
  {
   "cell_type": "markdown",
   "id": "f1314061-715b-4816-a3cd-9c4fde26073e",
   "metadata": {},
   "source": [
    "The independent variables you need to find—in this case x and y—are called the **decision variables**. The function of the decision variables to be maximized or minimized—in this case z—is called the **objective function**, the **cost function**, or just the **goal**. The inequalities you need to satisfy are called the **inequality constraints**. You can also have equations among the constraints called **equality constraints**."
   ]
  },
  {
   "cell_type": "code",
   "execution_count": 1,
   "id": "b6f34674-5360-40d7-ab1b-f572791eb26e",
   "metadata": {},
   "outputs": [],
   "source": [
    "import numpy as np"
   ]
  },
  {
   "cell_type": "code",
   "execution_count": 15,
   "id": "eae142a1-8bdc-4a2d-afe6-6503df284c41",
   "metadata": {},
   "outputs": [],
   "source": [
    "from mpl_toolkits.mplot3d import Axes3D\n",
    "import matplotlib.pyplot as plt\n",
    "import matplotlib.cm as cm"
   ]
  },
  {
   "cell_type": "code",
   "execution_count": 65,
   "id": "0be73b8e-9349-4f3a-b83a-d5512472f994",
   "metadata": {},
   "outputs": [],
   "source": [
    "x = y = np.linspace(0,10, 1000)\n",
    "xx, yy = np.meshgrid(x,y)"
   ]
  },
  {
   "cell_type": "code",
   "execution_count": 66,
   "id": "7a3ab932-076c-47a3-b6dd-f69e563b74b3",
   "metadata": {},
   "outputs": [],
   "source": [
    "constraint_1 = 2 * xx + yy <= 20\n",
    "constraint_2 = -4 * xx + 5 * yy <= 10\n",
    "constraint_3 = -1 * xx + 2 * yy >= -2"
   ]
  },
  {
   "cell_type": "code",
   "execution_count": 67,
   "id": "8feb7c0d-6915-4e98-a8de-0a9c436b9d03",
   "metadata": {},
   "outputs": [
    {
     "data": {
      "image/png": "[encoded data removed]",
      "text/plain": [
       "<Figure size 432x288 with 1 Axes>"
      ]
     },
     "metadata": {
      "needs_background": "light"
     },
     "output_type": "display_data"
    }
   ],
   "source": [
    "fig, ax = plt.subplots()\n",
    "\n",
    "feasible_region = ax.imshow(constraint_1*constraint_2*constraint_3, origin='lower')"
   ]
  },
  {
   "cell_type": "markdown",
   "id": "d31b2a7e-7fbb-4521-aa62-351afb7f6120",
   "metadata": {},
   "source": [
    "Each point of the yellow area satisfies all constraints and is a potential solution to the problem. This area is called the **feasible region**, and its points are **feasible solutions**. In this case, there’s an infinite number of feasible solutions.\n",
    "\n",
    "You want to maximize z. The feasible solution that corresponds to maximal z is the optimal solution. If you were trying to minimize the objective function instead, then the optimal solution would correspond to its feasible minimum."
   ]
  },
  {
   "cell_type": "markdown",
   "id": "4c01fe7a-21ca-430f-ad32-fbca1b319052",
   "metadata": {},
   "source": [
    "Note that z is linear. You can imagine it as a plane in three-dimensional space. This is why the optimal solution must be on a **vertex**, or corner, of the feasible region.\n",
    "\n",
    "Sometimes a whole edge of the feasible region, or even the entire region, can correspond to the same value of z. In that case, you have many optimal solutions."
   ]
  },
  {
   "cell_type": "markdown",
   "id": "f4af2b76-9eab-4c75-a29e-6335ec88cb3f",
   "metadata": {},
   "source": [
    "Add an equality constrain\n",
    "\\begin{equation}\n",
    "-x + 5y = 15\n",
    "\\end{equation}"
   ]
  },
  {
   "cell_type": "code",
   "execution_count": 70,
   "id": "2cadb2dc-a6e7-431c-9b14-02f461e44995",
   "metadata": {},
   "outputs": [],
   "source": [
    "constraint_4 = (-1 * xx + 15 * yy <= 15+0.1) & (-1 * xx + 15 * yy >= 15-0.1)"
   ]
  },
  {
   "cell_type": "code",
   "execution_count": 71,
   "id": "0d7b5da3-1214-4fb6-aa45-354b1990621e",
   "metadata": {},
   "outputs": [
    {
     "data": {
      "image/png": "[encoded data removed]",
      "text/plain": [
       "<Figure size 432x288 with 1 Axes>"
      ]
     },
     "metadata": {
      "needs_background": "light"
     },
     "output_type": "display_data"
    }
   ],
   "source": [
    "fig, ax = plt.subplots()\n",
    "\n",
    "feasible_region = ax.imshow(constraint_1*constraint_2*constraint_3*constraint_4, origin='lower')"
   ]
  },
  {
   "cell_type": "markdown",
   "id": "69cdbd8a-2e57-4714-8425-2655a1c8ba77",
   "metadata": {},
   "source": [
    "The feasible region is now a line, if we demand that all values of x must be integer we will get a **mixed integer linear programming problem**. The set of feasible solutions will change to points aranged on a line."
   ]
  },
  {
   "cell_type": "markdown",
   "id": "188f7a72-577b-46cd-9278-e49f3890f481",
   "metadata": {},
   "source": [
    "A linear integer programming problem is **feasible** when it has bounded feasible regions and finite solutions.\n",
    "\n",
    "A linear programming problem is infeasible if it does not have a solution. This usually happens when no solution can satisfy all constraints at once.\n",
    "\n",
    "A linear programming problem is unbounded if its feasible region isn’t bounded and the solution is not finite. This means that at least one of your variables is not constrained and can reach to positive or negative infinity, making the objective infinite as well."
   ]
  },
  {
   "cell_type": "markdown",
   "id": "f31fe239-b6eb-4c0d-be6c-95259be5d143",
   "metadata": {},
   "source": [
    "## Ressource allocation problem\n",
    "\n",
    "Say that a factory produces four different products, and that the daily produced amount of the first product is $x_1$, the amount produced of the second product is $x_2$, and so on. The goal is to determine the profit-maximizing daily production amount for each product, bearing in mind the following conditions:\n",
    "\n",
    "1. The profit per unit of product is 20\\\\$, 12\\\\$, 40\\\\$, and 25\\\\$ for the first, second, third, and fourth product, respectively.\n",
    "2. Due to manpower constraints, the total number of units produced per day can’t exceed fifty.\n",
    "3. For each unit of the first product, three units of the raw material $A$ are consumed. Each unit of the second product requires two units of the raw material $A$ and one unit of the raw material $B$. Each unit of the third product needs one unit of $A$ and two units of $B$. Finally, each unit of the fourth product requires three units of $B$.\n",
    "4. Due to the transportation and storage constraints, the factory can consume up to one hundred units of the raw material $A$ and ninety units of $B$ per day."
   ]
  },
  {
   "cell_type": "markdown",
   "id": "d1b7465a-2b25-4714-a622-eb9c86cf2af5",
   "metadata": {},
   "source": [
    "The mathematical model can be defined as such:\n",
    "\n",
    "\\begin{equation}\n",
    "\\mathrm{max} \\left(20x_1+12x_2+40x_3+25x_4 \\right) \\, \\mathrm{(profit)}\n",
    "\\end{equation}\n",
    "s.t.:\n",
    "\\begin{eqnarray}\n",
    "&x_1& + &x_2& + &x_3& + &x_4& &\\leq& 50 \\, &(\\mathrm{manpower})& \\\\\n",
    "3&x_1&+2&x_2&+&x_3& && &\\leq& 100 \\, &(\\mathrm{material} \\ A)& \\\\\n",
    "&& &x_2&+2&x_3&+3&x_4& &\\leq& 90 \\, &(\\mathrm{material} \\ B)& \\\\\n",
    "\\end{eqnarray}\n",
    "\\begin{eqnarray}\n",
    "x_1, x_2, x_3, x_4 \\geq 0\n",
    "\\end{eqnarray}\n"
   ]
  },
  {
   "cell_type": "code",
   "execution_count": null,
   "id": "5713c855-4c1d-406b-a9b5-39bbffb64783",
   "metadata": {},
   "outputs": [],
   "source": []
  }
 ],
 "metadata": {
  "kernelspec": {
   "display_name": "Python 3 (ipykernel)",
   "language": "python",
   "name": "python3"
  },
  "language_info": {
   "codemirror_mode": {
    "name": "ipython",
    "version": 3
   },
   "file_extension": ".py",
   "mimetype": "text/x-python",
   "name": "python",
   "nbconvert_exporter": "python",
   "pygments_lexer": "ipython3",
   "version": "3.10.5"
  }
 },
 "nbformat": 4,
 "nbformat_minor": 5
}
