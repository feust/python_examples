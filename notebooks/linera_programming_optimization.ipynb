{
 "cells": [
  {
   "cell_type": "markdown",
   "id": "5b605db5-182d-4933-83e7-d0f0e03efd59",
   "metadata": {},
   "source": [
    "# Linerar programming optimization\n",
    "\n",
    "Follwoing [realpython](https://realpython.com/linear-programming-python/)"
   ]
  },
  {
   "cell_type": "markdown",
   "id": "750ff2e9-bf06-42e4-8313-35aa53b1a8f6",
   "metadata": {},
   "source": [
    "Linear programming is a set of techniques used in mathematical programming, sometimes called mathematical optimization, to solve systems of linear equations and inequalities while maximizing or minimizing some linear function.\n",
    "\n",
    "**Mixed-integer linear programming** is an extension of linear programming. It handles problems in which at least one variable takes a discrete integer rather than a continuous value. Although mixed-integer problems look similar to continuous variable problems at first sight, they offer significant advantages in terms of flexibility and precision.\n",
    "\n",
    "Mixed-integer linear programming allows you to overcome many of the limitations of linear programming. You can approximate non-linear functions with piecewise linear functions, use semi-continuous variables, model logical constraints, and more. "
   ]
  },
  {
   "cell_type": "markdown",
   "id": "42964704-127d-4b85-8478-0b75c7aa6477",
   "metadata": {},
   "source": [
    "## Small linear programming problem\n",
    "\n",
    "Consider the following linear programming problem:\n",
    "\n",
    "maximise\n",
    "\\begin{equation}\n",
    "z = x + 2y\n",
    "\\end{equation}\n",
    "subject to\n",
    "\\begin{eqnarray}\n",
    "2x + y &\\leq& 20 \\\\\n",
    "-4x + 5y &\\leq& 10 \\\\\n",
    "-x +2y &\\geq& -2 \\\\\n",
    "x &\\geq& 0 \\\\\n",
    "y &\\geq& 0\n",
    "\\end{eqnarray}"
   ]
  },
  {
   "cell_type": "markdown",
   "id": "f1314061-715b-4816-a3cd-9c4fde26073e",
   "metadata": {},
   "source": [
    "The independent variables you need to find—in this case x and y—are called the **decision variables**. The function of the decision variables to be maximized or minimized—in this case z—is called the **objective function**, the **cost function**, or just the **goal**. The inequalities you need to satisfy are called the **inequality constraints**. You can also have equations among the constraints called **equality constraints**."
   ]
  },
  {
   "cell_type": "code",
   "execution_count": 1,
   "id": "b6f34674-5360-40d7-ab1b-f572791eb26e",
   "metadata": {},
   "outputs": [],
   "source": [
    "import numpy as np"
   ]
  },
  {
   "cell_type": "code",
   "execution_count": 2,
   "id": "eae142a1-8bdc-4a2d-afe6-6503df284c41",
   "metadata": {},
   "outputs": [],
   "source": [
    "from mpl_toolkits.mplot3d import Axes3D\n",
    "import matplotlib.pyplot as plt\n",
    "import matplotlib.cm as cm"
   ]
  },
  {
   "cell_type": "code",
   "execution_count": 3,
   "id": "0be73b8e-9349-4f3a-b83a-d5512472f994",
   "metadata": {},
   "outputs": [],
   "source": [
    "x = y = np.linspace(0,10, 1000)\n",
    "xx, yy = np.meshgrid(x,y)"
   ]
  },
  {
   "cell_type": "code",
   "execution_count": 4,
   "id": "7a3ab932-076c-47a3-b6dd-f69e563b74b3",
   "metadata": {},
   "outputs": [],
   "source": [
    "constraint_1 = 2 * xx + yy <= 20\n",
    "constraint_2 = -4 * xx + 5 * yy <= 10\n",
    "constraint_3 = -1 * xx + 2 * yy >= -2"
   ]
  },
  {
   "cell_type": "code",
   "execution_count": 5,
   "id": "8feb7c0d-6915-4e98-a8de-0a9c436b9d03",
   "metadata": {},
   "outputs": [
    {
     "data": {
      "image/png": "[encoded data removed]",
      "text/plain": [
       "<Figure size 576x576 with 1 Axes>"
      ]
     },
     "metadata": {
      "needs_background": "light"
     },
     "output_type": "display_data"
    }
   ],
   "source": [
    "fig, ax = plt.subplots(figsize=(8,8))\n",
    "feasible_region = ax.imshow(constraint_1*constraint_2*constraint_3, origin='lower', aspect='equal', extent=[0, 10, 0, 10])"
   ]
  },
  {
   "cell_type": "markdown",
   "id": "d31b2a7e-7fbb-4521-aa62-351afb7f6120",
   "metadata": {},
   "source": [
    "Each point of the yellow area satisfies all constraints and is a potential solution to the problem. This area is called the **feasible region**, and its points are **feasible solutions**. In this case, there’s an infinite number of feasible solutions.\n",
    "\n",
    "You want to maximize z. The feasible solution that corresponds to maximal z is the optimal solution. If you were trying to minimize the objective function instead, then the optimal solution would correspond to its feasible minimum."
   ]
  },
  {
   "cell_type": "markdown",
   "id": "4c01fe7a-21ca-430f-ad32-fbca1b319052",
   "metadata": {},
   "source": [
    "Note that z is linear. You can imagine it as a plane in three-dimensional space. This is why the optimal solution must be on a **vertex**, or corner, of the feasible region.\n",
    "\n",
    "Sometimes a whole edge of the feasible region, or even the entire region, can correspond to the same value of z. In that case, you have many optimal solutions."
   ]
  },
  {
   "cell_type": "markdown",
   "id": "f4af2b76-9eab-4c75-a29e-6335ec88cb3f",
   "metadata": {},
   "source": [
    "Add an equality constrain\n",
    "\\begin{equation}\n",
    "-x + 5y = 15\n",
    "\\end{equation}"
   ]
  },
  {
   "cell_type": "code",
   "execution_count": 6,
   "id": "2cadb2dc-a6e7-431c-9b14-02f461e44995",
   "metadata": {},
   "outputs": [],
   "source": [
    "constraint_4 = (-1 * xx + 5 * yy <= 15+0.1) & (-1 * xx + 5 * yy >= 15-0.1)"
   ]
  },
  {
   "cell_type": "code",
   "execution_count": 7,
   "id": "0d7b5da3-1214-4fb6-aa45-354b1990621e",
   "metadata": {},
   "outputs": [],
   "source": [
    "# fig, ax = plt.subplots(figsize=(8,8))\n",
    "\n",
    "# feasible_region = ax.imshow(constraint_1*constraint_2*constraint_3*constraint_4, \n",
    "#                             origin='lower', aspect='equal', extent=[0, 10, 0, 10])\n"
   ]
  },
  {
   "cell_type": "code",
   "execution_count": 8,
   "id": "9e85f6f4-3194-46f6-bf52-dc1bd4055b7b",
   "metadata": {},
   "outputs": [
    {
     "data": {
      "image/png": "[encoded data removed]",
      "text/plain": [
       "<Figure size 576x576 with 1 Axes>"
      ]
     },
     "metadata": {
      "needs_background": "light"
     },
     "output_type": "display_data"
    }
   ],
   "source": [
    "fig, ax = plt.subplots(figsize=(8,8))\n",
    "\n",
    "feasible_region = ax.imshow(constraint_1*constraint_2*constraint_3+constraint_4*1.1, \n",
    "                            origin='lower', aspect='equal', extent=[0, 10, 0, 10])\n"
   ]
  },
  {
   "cell_type": "markdown",
   "id": "69cdbd8a-2e57-4714-8425-2655a1c8ba77",
   "metadata": {},
   "source": [
    "The feasible region is now a line, if we demand that all values of x must be integer we will get a **mixed integer linear programming problem**. The set of feasible solutions will change to points aranged on a line."
   ]
  },
  {
   "cell_type": "markdown",
   "id": "188f7a72-577b-46cd-9278-e49f3890f481",
   "metadata": {},
   "source": [
    "A linear integer programming problem is **feasible** when it has bounded feasible regions and finite solutions.\n",
    "\n",
    "A linear programming problem is infeasible if it does not have a solution. This usually happens when no solution can satisfy all constraints at once.\n",
    "\n",
    "A linear programming problem is unbounded if its feasible region isn’t bounded and the solution is not finite. This means that at least one of your variables is not constrained and can reach to positive or negative infinity, making the objective infinite as well."
   ]
  },
  {
   "cell_type": "markdown",
   "id": "f31fe239-b6eb-4c0d-be6c-95259be5d143",
   "metadata": {},
   "source": [
    "## Ressource allocation problem\n",
    "\n",
    "Say that a factory produces four different products, and that the daily produced amount of the first product is $x_1$, the amount produced of the second product is $x_2$, and so on. The goal is to determine the profit-maximizing daily production amount for each product, bearing in mind the following conditions:\n",
    "\n",
    "1. The profit per unit of product is 20\\\\$, 12\\\\$, 40\\\\$, and 25\\\\$ for the first, second, third, and fourth product, respectively.\n",
    "2. Due to manpower constraints, the total number of units produced per day can’t exceed fifty.\n",
    "3. For each unit of the first product, three units of the raw material $A$ are consumed. Each unit of the second product requires two units of the raw material $A$ and one unit of the raw material $B$. Each unit of the third product needs one unit of $A$ and two units of $B$. Finally, each unit of the fourth product requires three units of $B$.\n",
    "4. Due to the transportation and storage constraints, the factory can consume up to one hundred units of the raw material $A$ and ninety units of $B$ per day."
   ]
  },
  {
   "cell_type": "markdown",
   "id": "d1b7465a-2b25-4714-a622-eb9c86cf2af5",
   "metadata": {},
   "source": [
    "The mathematical model can be defined as such:\n",
    "\n",
    "\\begin{equation}\n",
    "\\mathrm{max} \\left(20x_1+12x_2+40x_3+25x_4 \\right) \n",
    "\\end{equation}\n",
    "s.t.:\n",
    "\\begin{eqnarray}\n",
    "&x_1& + &x_2& + &x_3& + &x_4& &\\leq& 50 \\, &(\\mathrm{manpower})& \\\\\n",
    "3&x_1&+2&x_2&+&x_3& && &\\leq& 100 \\, &(\\mathrm{material} \\ A)& \\\\\n",
    "&& &x_2&+2&x_3&+3&x_4& &\\leq& 90 \\, &(\\mathrm{material} \\ B)& \\\\\n",
    "\\end{eqnarray}\n",
    "\\begin{eqnarray}\n",
    "x_1, x_2, x_3, x_4 \\geq 0\n",
    "\\end{eqnarray}\n"
   ]
  },
  {
   "cell_type": "markdown",
   "id": "99732c63-4a36-4955-a452-af7d2e7ebb7f",
   "metadata": {},
   "source": [
    "## Python implementation\n",
    "\n",
    "### scipy toy example"
   ]
  },
  {
   "cell_type": "code",
   "execution_count": 9,
   "id": "5713c855-4c1d-406b-a9b5-39bbffb64783",
   "metadata": {},
   "outputs": [],
   "source": [
    "from scipy.optimize import linprog"
   ]
  },
  {
   "cell_type": "markdown",
   "id": "87478701-dab7-432b-aa0b-16a3f6515785",
   "metadata": {},
   "source": [
    "Solve the above toy example:\n",
    "\n",
    "maximise\n",
    "\\begin{equation}\n",
    "z = x + 2y\n",
    "\\end{equation}\n",
    "subject to\n",
    "\\begin{eqnarray}\n",
    "2x + y &\\leq& 20 \\\\\n",
    "-4x + 5y &\\leq& 10 \\\\\n",
    "-x +2y &\\geq& -2 \\\\\n",
    "x &\\geq& 0 \\\\\n",
    "y &\\geq& 0\n",
    "\\end{eqnarray}"
   ]
  },
  {
   "cell_type": "markdown",
   "id": "7250445e-9016-4fbb-af99-74f1024699ee",
   "metadata": {},
   "source": [
    "`linprog()` solves only minimization (not maximization) problems and doesn’t allow inequality constraints with the greater than or equal to sign (≥). To work around these issues, you need to modify your problem before starting optimization:"
   ]
  },
  {
   "cell_type": "markdown",
   "id": "27b4d790-33b1-41f7-9168-1d8b0f32c68c",
   "metadata": {},
   "source": [
    "\\begin{equation}\n",
    "\\mathrm{min} (-z = -x - 2y)\n",
    "\\end{equation}\n",
    "subject to\n",
    "\\begin{eqnarray}\n",
    "2x + y &\\leq& 20 \\\\\n",
    "-4x + 5y &\\leq& 10 \\\\\n",
    "x - 2y &\\leq& 2 \\\\\n",
    "x &\\geq& 0 \\\\\n",
    "y &\\geq& 0\n",
    "\\end{eqnarray}"
   ]
  },
  {
   "cell_type": "code",
   "execution_count": 10,
   "id": "02d4315c-2100-4023-862b-76af69400bb8",
   "metadata": {},
   "outputs": [],
   "source": [
    "obj = [-1, -2]  # holds the coefficients from the objective function.\n",
    "#      ─┬  ─┬\n",
    "#       │   └┤ Coefficient for y\n",
    "#       └────┤ Coefficient for x\n",
    "\n",
    "# left-hand-side of inqeualities\n",
    "lhs_ineq = [[ 2,  1],  \n",
    "            [-4,  5],  \n",
    "            [ 1, -2]]\n",
    "\n",
    "# right-hand-side of inequalities\n",
    "rhs_ineq = [20,  \n",
    "            10, \n",
    "            2] \n",
    "\n",
    "# equality\n",
    "lhs_eq = [[-1, 5]]\n",
    "rhs_eq = [15]\n",
    "\n",
    "# bounds\n",
    "bnd = [(0, float(\"inf\")),  # Bounds of x\n",
    "        (0, float(\"inf\"))]  # Bounds of y"
   ]
  },
  {
   "cell_type": "code",
   "execution_count": 11,
   "id": "95ff9c61-6755-41dd-97c9-fc29b50eec7f",
   "metadata": {},
   "outputs": [],
   "source": [
    "opt = linprog(c=obj, A_ub=lhs_ineq, b_ub=rhs_ineq,\n",
    "              A_eq=lhs_eq, b_eq=rhs_eq, bounds=bnd,\n",
    "              method='highs')"
   ]
  },
  {
   "cell_type": "code",
   "execution_count": 12,
   "id": "42ffc9b9-48af-4e84-b10c-f62a5665902f",
   "metadata": {},
   "outputs": [
    {
     "data": {
      "text/plain": [
       "           con: array([0.])\n",
       " crossover_nit: 0\n",
       "         eqlin:  marginals: array([-0.27272727])\n",
       "  residual: array([0.])\n",
       "           fun: -16.818181818181817\n",
       "       ineqlin:  marginals: array([-0.63636364, -0.        , -0.        ])\n",
       "  residual: array([ 0.        , 18.18181818,  3.36363636])\n",
       "         lower:  marginals: array([0., 0.])\n",
       "  residual: array([7.72727273, 4.54545455])\n",
       "       message: 'Optimization terminated successfully. (HiGHS Status 7: Optimal)'\n",
       "           nit: 0\n",
       "         slack: array([ 0.        , 18.18181818,  3.36363636])\n",
       "        status: 0\n",
       "       success: True\n",
       "         upper:  marginals: array([0., 0.])\n",
       "  residual: array([inf, inf])\n",
       "             x: array([7.72727273, 4.54545455])"
      ]
     },
     "execution_count": 12,
     "metadata": {},
     "output_type": "execute_result"
    }
   ],
   "source": [
    "opt"
   ]
  },
  {
   "cell_type": "code",
   "execution_count": 13,
   "id": "54a45339-e83e-4944-9afc-5739ca96342a",
   "metadata": {},
   "outputs": [
    {
     "data": {
      "text/plain": [
       "True"
      ]
     },
     "execution_count": 13,
     "metadata": {},
     "output_type": "execute_result"
    }
   ],
   "source": [
    "opt.success"
   ]
  },
  {
   "cell_type": "code",
   "execution_count": 14,
   "id": "3ae47b2d-d539-4a77-850d-bc4f32e3abd5",
   "metadata": {},
   "outputs": [
    {
     "data": {
      "text/plain": [
       "array([7.72727273, 4.54545455])"
      ]
     },
     "execution_count": 14,
     "metadata": {},
     "output_type": "execute_result"
    }
   ],
   "source": [
    "opt.x"
   ]
  },
  {
   "cell_type": "code",
   "execution_count": 15,
   "id": "465266a6-5b83-4c0f-8fa0-71d917f602a3",
   "metadata": {},
   "outputs": [
    {
     "data": {
      "image/png": "[encoded data removed]",
      "text/plain": [
       "<Figure size 576x576 with 1 Axes>"
      ]
     },
     "metadata": {
      "needs_background": "light"
     },
     "output_type": "display_data"
    }
   ],
   "source": [
    "fig, ax = plt.subplots(figsize=(8,8))\n",
    "\n",
    "sol = (np.abs(xx-opt.x[0])<0.05) & (np.abs(yy-opt.x[1])<0.05)\n",
    "feasible_region = ax.imshow(constraint_1*constraint_2*constraint_3+constraint_4*1.1+sol*2, \n",
    "                            origin='lower', aspect='equal', extent=[0, 10, 0, 10])\n"
   ]
  },
  {
   "cell_type": "markdown",
   "id": "765a6164-ab5f-4254-b755-f13552bad7cb",
   "metadata": {},
   "source": [
    " ### scipy ressource allocation"
   ]
  },
  {
   "cell_type": "markdown",
   "id": "cd50adea-4742-4541-afc7-1817b7325678",
   "metadata": {},
   "source": [
    "\\begin{equation}\n",
    "\\mathrm{max} \\left(20x_1+12x_2+40x_3+25x_4 \\right) \n",
    "\\end{equation}\n",
    "s.t.:\n",
    "\\begin{eqnarray}\n",
    "&x_1& + &x_2& + &x_3& + &x_4& &\\leq& 50 \\, &(\\mathrm{manpower})& \\\\\n",
    "3&x_1&+2&x_2&+&x_3& && &\\leq& 100 \\, &(\\mathrm{material} \\ A)& \\\\\n",
    "&& &x_2&+2&x_3&+3&x_4& &\\leq& 90 \\, &(\\mathrm{material} \\ B)& \\\\\n",
    "\\end{eqnarray}\n",
    "\\begin{eqnarray}\n",
    "x_1, x_2, x_3, x_4 \\geq 0\n",
    "\\end{eqnarray}\n"
   ]
  },
  {
   "cell_type": "code",
   "execution_count": 16,
   "id": "ce014e8c-6025-4c76-b149-7d252f649bab",
   "metadata": {},
   "outputs": [
    {
     "data": {
      "text/plain": [
       "           con: array([], dtype=float64)\n",
       " crossover_nit: 0\n",
       "         eqlin:  marginals: array([], dtype=float64)\n",
       "  residual: array([], dtype=float64)\n",
       "           fun: -1900.0\n",
       "       ineqlin:  marginals: array([-20.,  -0., -10.])\n",
       "  residual: array([ 0., 40.,  0.])\n",
       "         lower:  marginals: array([ 0., 18.,  0., 25.])\n",
       "  residual: array([ 5.,  0., 45.,  0.])\n",
       "       message: 'Optimization terminated successfully. (HiGHS Status 7: Optimal)'\n",
       "           nit: 4\n",
       "         slack: array([ 0., 40.,  0.])\n",
       "        status: 0\n",
       "       success: True\n",
       "         upper:  marginals: array([0., 0., 0., 0.])\n",
       "  residual: array([inf, inf, inf, inf])\n",
       "             x: array([ 5.,  0., 45.,  0.])"
      ]
     },
     "execution_count": 16,
     "metadata": {},
     "output_type": "execute_result"
    }
   ],
   "source": [
    "obj = [-20, -12, -40, -25]\n",
    "\n",
    "lhs_ineq = [[1, 1, 1, 1],  # Manpower\n",
    "            [3, 2, 1, 0],  # Material A\n",
    "            [0, 1, 2, 3]]  # Material B\n",
    "\n",
    "rhs_ineq = [ 50,  # Manpower\n",
    "            100,  # Material A\n",
    "             90]  # Material B\n",
    "\n",
    "opt = linprog(c=obj, A_ub=lhs_ineq, b_ub=rhs_ineq,\n",
    "              method=\"highs\")\n",
    "opt"
   ]
  },
  {
   "cell_type": "markdown",
   "id": "18f1bce9-dcad-4770-bd0f-214cabc14297",
   "metadata": {},
   "source": [
    "The result tells us that the maximal profit is 1900 and corresponds to $x_1$ = 5 and $x_3$ = 45. It is not profitable to produce the second and fourth products under the given conditions. You can draw several interesting conclusions here:\n",
    "\n",
    "1. The third product brings the largest profit per unit, so the factory will produce it the most.\n",
    "2. The first slack is 0, which means that the values of the left and right sides of the manpower (first) constraint are the same. The factory produces 50 units per day, and that is its full capacity.\n",
    "3. The second slack is 40 because the factory consumes 60 units of raw material A (15 units for the first product plus 45 for the third) out of a potential 100 units.\n",
    "4. The third slack is 0, which means that the factory consumes all 90 units of the raw material B. This entire amount is consumed for the third product. That’s why the factory cannot produce the second or fourth product at all and can’t produce more than 45 units of the third product. It lacks the raw material B."
   ]
  },
  {
   "cell_type": "code",
   "execution_count": null,
   "id": "62f07746-8293-4ede-b5d7-a91d4d734c17",
   "metadata": {},
   "outputs": [],
   "source": []
  },
  {
   "cell_type": "code",
   "execution_count": null,
   "id": "a00a43b7-abff-49c6-beaf-897e4809dadf",
   "metadata": {},
   "outputs": [],
   "source": []
  },
  {
   "cell_type": "code",
   "execution_count": null,
   "id": "482003ca-25ba-4498-bd94-dccbfe746c1c",
   "metadata": {},
   "outputs": [],
   "source": []
  },
  {
   "cell_type": "code",
   "execution_count": null,
   "id": "76be172c-76d3-4311-bc3c-71375abc14e0",
   "metadata": {},
   "outputs": [],
   "source": []
  },
  {
   "cell_type": "code",
   "execution_count": null,
   "id": "d407ffe0-cbe0-4434-bdf2-36b9adf1315c",
   "metadata": {},
   "outputs": [],
   "source": []
  }
 ],
 "metadata": {
  "kernelspec": {
   "display_name": "Python 3 (ipykernel)",
   "language": "python",
   "name": "python3"
  },
  "language_info": {
   "codemirror_mode": {
    "name": "ipython",
    "version": 3
   },
   "file_extension": ".py",
   "mimetype": "text/x-python",
   "name": "python",
   "nbconvert_exporter": "python",
   "pygments_lexer": "ipython3",
   "version": "3.10.5"
  }
 },
 "nbformat": 4,
 "nbformat_minor": 5
}
