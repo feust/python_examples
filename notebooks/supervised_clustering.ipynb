{
 "cells": [
  {
   "cell_type": "markdown",
   "id": "bf65f3eb-82a1-4e25-be08-884560dfd5f2",
   "metadata": {},
   "source": [
    "# supervised clustering test\n",
    "https://www.aidancooper.co.uk/supervised-clustering-shap-values/"
   ]
  },
  {
   "cell_type": "code",
   "execution_count": 1,
   "id": "c835db31-1d56-4b3e-af5d-949100848354",
   "metadata": {},
   "outputs": [],
   "source": [
    "import lightgbm as lgb\n",
    "import shap\n",
    "from sklearn.datasets import make_classification"
   ]
  },
  {
   "cell_type": "code",
   "execution_count": 2,
   "id": "371844e0-e05a-4c6c-a8fa-ee7a0f73e4b3",
   "metadata": {},
   "outputs": [],
   "source": [
    "# simulate raw data\n",
    "X, y = make_classification(\n",
    "    n_samples=1000,\n",
    "    n_features=50,\n",
    "    n_informative=5,\n",
    "    n_classes=2,\n",
    "    n_clusters_per_class=3,\n",
    "    shuffle=False\n",
    ")"
   ]
  },
  {
   "cell_type": "code",
   "execution_count": 5,
   "id": "6dd36f60-c532-4009-b47f-5bc95ec94679",
   "metadata": {},
   "outputs": [
    {
     "data": {
      "text/plain": [
       "(1000, 50)"
      ]
     },
     "execution_count": 5,
     "metadata": {},
     "output_type": "execute_result"
    }
   ],
   "source": [
    "X.shape"
   ]
  },
  {
   "cell_type": "code",
   "execution_count": 6,
   "id": "810eba16-272a-45d7-8060-ad9b04cc774d",
   "metadata": {},
   "outputs": [
    {
     "data": {
      "text/plain": [
       "(1000,)"
      ]
     },
     "execution_count": 6,
     "metadata": {},
     "output_type": "execute_result"
    }
   ],
   "source": [
    "y.shape"
   ]
  },
  {
   "cell_type": "code",
   "execution_count": 7,
   "id": "537f5a86-6ab2-4893-b666-0023d9c0f43a",
   "metadata": {},
   "outputs": [
    {
     "data": {
      "text/plain": [
       "LGBMClassifier()"
      ]
     },
     "execution_count": 7,
     "metadata": {},
     "output_type": "execute_result"
    }
   ],
   "source": [
    "# fit a GBT model to the data\n",
    "m = lgb.LGBMClassifier()\n",
    "m.fit(X, y)"
   ]
  },
  {
   "cell_type": "code",
   "execution_count": 8,
   "id": "538b47c8-5f2a-4fdc-8496-6801e7ce10e6",
   "metadata": {},
   "outputs": [],
   "source": [
    "# compute SHAP values\n",
    "explainer = shap.Explainer(m)\n",
    "shap_values = explainer(X)"
   ]
  },
  {
   "cell_type": "code",
   "execution_count": null,
   "id": "da71942b-cb0f-478f-b215-f172eb344c07",
   "metadata": {},
   "outputs": [],
   "source": []
  },
  {
   "cell_type": "code",
   "execution_count": null,
   "id": "fa1c22fd-6348-4bb7-aa6f-bf2323ecc281",
   "metadata": {},
   "outputs": [],
   "source": []
  },
  {
   "cell_type": "code",
   "execution_count": null,
   "id": "a44d7ccf-2ac7-4cc6-b2f2-d5d2ad9bd779",
   "metadata": {},
   "outputs": [],
   "source": []
  },
  {
   "cell_type": "code",
   "execution_count": null,
   "id": "5302d51d-9f2b-4276-9dd4-4ab42af28901",
   "metadata": {},
   "outputs": [],
   "source": []
  },
  {
   "cell_type": "code",
   "execution_count": null,
   "id": "c044e724-eaeb-43bd-883a-821a70a1cec6",
   "metadata": {},
   "outputs": [],
   "source": []
  },
  {
   "cell_type": "code",
   "execution_count": null,
   "id": "5692bfd9-c56b-4e1f-9f9f-6c41dfac2636",
   "metadata": {},
   "outputs": [],
   "source": []
  },
  {
   "cell_type": "code",
   "execution_count": null,
   "id": "9793ca0f-14b6-43ed-8cd0-b0e164352edc",
   "metadata": {},
   "outputs": [],
   "source": []
  },
  {
   "cell_type": "code",
   "execution_count": null,
   "id": "38b860fc-b2e6-4429-9ff0-2fab9e915073",
   "metadata": {},
   "outputs": [],
   "source": []
  }
 ],
 "metadata": {
  "kernelspec": {
   "display_name": "Python 3 (ipykernel)",
   "language": "python",
   "name": "python3"
  },
  "language_info": {
   "codemirror_mode": {
    "name": "ipython",
    "version": 3
   },
   "file_extension": ".py",
   "mimetype": "text/x-python",
   "name": "python",
   "nbconvert_exporter": "python",
   "pygments_lexer": "ipython3",
   "version": "3.10.5"
  }
 },
 "nbformat": 4,
 "nbformat_minor": 5
}
