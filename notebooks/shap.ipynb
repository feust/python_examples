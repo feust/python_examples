{
 "cells": [
  {
   "cell_type": "markdown",
   "id": "798dfc07-ca3d-4d8c-a463-2cd5e2de5461",
   "metadata": {},
   "source": [
    "# SHAP\n",
    "\n",
    "Experiment with the [SHAP package](https://github.com/shap/shap). For more details, see original paper [A Unified Approach to Interpreting Model Predictions](https://arxiv.org/abs/1705.07874).\n",
    "\n",
    "The examples in this notebook are taken from [here](https://shap.readthedocs.io/en/latest/overviews.html)."
   ]
  },
  {
   "cell_type": "code",
   "execution_count": 12,
   "id": "3f508c28-8a6f-4844-908e-843a8545e93f",
   "metadata": {},
   "outputs": [],
   "source": [
    "import numpy as np\n",
    "import sklearn\n",
    "import shap"
   ]
  },
  {
   "cell_type": "markdown",
   "id": "8ce25e31-f459-4ed8-802f-b3ee9c87e90b",
   "metadata": {},
   "source": [
    "## Explaining a linear regression model"
   ]
  },
  {
   "cell_type": "code",
   "execution_count": 4,
   "id": "640e85c3-0192-4f95-8e0e-87f1e66125bd",
   "metadata": {},
   "outputs": [
    {
     "data": {
      "text/html": [
       "<div>\n",
       "<style scoped>\n",
       "    .dataframe tbody tr th:only-of-type {\n",
       "        vertical-align: middle;\n",
       "    }\n",
       "\n",
       "    .dataframe tbody tr th {\n",
       "        vertical-align: top;\n",
       "    }\n",
       "\n",
       "    .dataframe thead th {\n",
       "        text-align: right;\n",
       "    }\n",
       "</style>\n",
       "<table border=\"1\" class=\"dataframe\">\n",
       "  <thead>\n",
       "    <tr style=\"text-align: right;\">\n",
       "      <th></th>\n",
       "      <th>MedInc</th>\n",
       "      <th>HouseAge</th>\n",
       "      <th>AveRooms</th>\n",
       "      <th>AveBedrms</th>\n",
       "      <th>Population</th>\n",
       "      <th>AveOccup</th>\n",
       "      <th>Latitude</th>\n",
       "      <th>Longitude</th>\n",
       "    </tr>\n",
       "  </thead>\n",
       "  <tbody>\n",
       "    <tr>\n",
       "      <th>12953</th>\n",
       "      <td>3.7813</td>\n",
       "      <td>15.0</td>\n",
       "      <td>5.620058</td>\n",
       "      <td>1.013500</td>\n",
       "      <td>2868.0</td>\n",
       "      <td>2.765670</td>\n",
       "      <td>38.70</td>\n",
       "      <td>-121.28</td>\n",
       "    </tr>\n",
       "    <tr>\n",
       "      <th>18537</th>\n",
       "      <td>4.3000</td>\n",
       "      <td>20.0</td>\n",
       "      <td>6.270677</td>\n",
       "      <td>1.137845</td>\n",
       "      <td>981.0</td>\n",
       "      <td>2.458647</td>\n",
       "      <td>36.98</td>\n",
       "      <td>-122.00</td>\n",
       "    </tr>\n",
       "    <tr>\n",
       "      <th>13337</th>\n",
       "      <td>3.9107</td>\n",
       "      <td>27.0</td>\n",
       "      <td>5.572816</td>\n",
       "      <td>1.000000</td>\n",
       "      <td>321.0</td>\n",
       "      <td>3.116505</td>\n",
       "      <td>34.04</td>\n",
       "      <td>-117.68</td>\n",
       "    </tr>\n",
       "    <tr>\n",
       "      <th>12651</th>\n",
       "      <td>1.6521</td>\n",
       "      <td>36.0</td>\n",
       "      <td>4.068477</td>\n",
       "      <td>1.121606</td>\n",
       "      <td>2460.0</td>\n",
       "      <td>2.904368</td>\n",
       "      <td>38.52</td>\n",
       "      <td>-121.44</td>\n",
       "    </tr>\n",
       "    <tr>\n",
       "      <th>19986</th>\n",
       "      <td>2.3152</td>\n",
       "      <td>25.0</td>\n",
       "      <td>5.412844</td>\n",
       "      <td>1.055046</td>\n",
       "      <td>1424.0</td>\n",
       "      <td>3.266055</td>\n",
       "      <td>36.21</td>\n",
       "      <td>-119.32</td>\n",
       "    </tr>\n",
       "  </tbody>\n",
       "</table>\n",
       "</div>"
      ],
      "text/plain": [
       "       MedInc  HouseAge  AveRooms  AveBedrms  Population  AveOccup  Latitude  \\\n",
       "12953  3.7813      15.0  5.620058   1.013500      2868.0  2.765670     38.70   \n",
       "18537  4.3000      20.0  6.270677   1.137845       981.0  2.458647     36.98   \n",
       "13337  3.9107      27.0  5.572816   1.000000       321.0  3.116505     34.04   \n",
       "12651  1.6521      36.0  4.068477   1.121606      2460.0  2.904368     38.52   \n",
       "19986  2.3152      25.0  5.412844   1.055046      1424.0  3.266055     36.21   \n",
       "\n",
       "       Longitude  \n",
       "12953    -121.28  \n",
       "18537    -122.00  \n",
       "13337    -117.68  \n",
       "12651    -121.44  \n",
       "19986    -119.32  "
      ]
     },
     "execution_count": 4,
     "metadata": {},
     "output_type": "execute_result"
    }
   ],
   "source": [
    "# a classic housing price dataset\n",
    "X, y = shap.datasets.california(n_points=1000)\n",
    "X100 = shap.utils.sample(X, 100)  # 100 instances for use as the background distribution\n",
    "\n",
    "X100.head()"
   ]
  },
  {
   "cell_type": "code",
   "execution_count": 5,
   "id": "891e1f15-3a32-4c52-b7e2-82150b309f61",
   "metadata": {},
   "outputs": [
    {
     "data": {
      "text/html": [
       "<style>#sk-container-id-3 {color: black;}#sk-container-id-3 pre{padding: 0;}#sk-container-id-3 div.sk-toggleable {background-color: white;}#sk-container-id-3 label.sk-toggleable__label {cursor: pointer;display: block;width: 100%;margin-bottom: 0;padding: 0.3em;box-sizing: border-box;text-align: center;}#sk-container-id-3 label.sk-toggleable__label-arrow:before {content: \"▸\";float: left;margin-right: 0.25em;color: #696969;}#sk-container-id-3 label.sk-toggleable__label-arrow:hover:before {color: black;}#sk-container-id-3 div.sk-estimator:hover label.sk-toggleable__label-arrow:before {color: black;}#sk-container-id-3 div.sk-toggleable__content {max-height: 0;max-width: 0;overflow: hidden;text-align: left;background-color: #f0f8ff;}#sk-container-id-3 div.sk-toggleable__content pre {margin: 0.2em;color: black;border-radius: 0.25em;background-color: #f0f8ff;}#sk-container-id-3 input.sk-toggleable__control:checked~div.sk-toggleable__content {max-height: 200px;max-width: 100%;overflow: auto;}#sk-container-id-3 input.sk-toggleable__control:checked~label.sk-toggleable__label-arrow:before {content: \"▾\";}#sk-container-id-3 div.sk-estimator input.sk-toggleable__control:checked~label.sk-toggleable__label {background-color: #d4ebff;}#sk-container-id-3 div.sk-label input.sk-toggleable__control:checked~label.sk-toggleable__label {background-color: #d4ebff;}#sk-container-id-3 input.sk-hidden--visually {border: 0;clip: rect(1px 1px 1px 1px);clip: rect(1px, 1px, 1px, 1px);height: 1px;margin: -1px;overflow: hidden;padding: 0;position: absolute;width: 1px;}#sk-container-id-3 div.sk-estimator {font-family: monospace;background-color: #f0f8ff;border: 1px dotted black;border-radius: 0.25em;box-sizing: border-box;margin-bottom: 0.5em;}#sk-container-id-3 div.sk-estimator:hover {background-color: #d4ebff;}#sk-container-id-3 div.sk-parallel-item::after {content: \"\";width: 100%;border-bottom: 1px solid gray;flex-grow: 1;}#sk-container-id-3 div.sk-label:hover label.sk-toggleable__label {background-color: #d4ebff;}#sk-container-id-3 div.sk-serial::before {content: \"\";position: absolute;border-left: 1px solid gray;box-sizing: border-box;top: 0;bottom: 0;left: 50%;z-index: 0;}#sk-container-id-3 div.sk-serial {display: flex;flex-direction: column;align-items: center;background-color: white;padding-right: 0.2em;padding-left: 0.2em;position: relative;}#sk-container-id-3 div.sk-item {position: relative;z-index: 1;}#sk-container-id-3 div.sk-parallel {display: flex;align-items: stretch;justify-content: center;background-color: white;position: relative;}#sk-container-id-3 div.sk-item::before, #sk-container-id-3 div.sk-parallel-item::before {content: \"\";position: absolute;border-left: 1px solid gray;box-sizing: border-box;top: 0;bottom: 0;left: 50%;z-index: -1;}#sk-container-id-3 div.sk-parallel-item {display: flex;flex-direction: column;z-index: 1;position: relative;background-color: white;}#sk-container-id-3 div.sk-parallel-item:first-child::after {align-self: flex-end;width: 50%;}#sk-container-id-3 div.sk-parallel-item:last-child::after {align-self: flex-start;width: 50%;}#sk-container-id-3 div.sk-parallel-item:only-child::after {width: 0;}#sk-container-id-3 div.sk-dashed-wrapped {border: 1px dashed gray;margin: 0 0.4em 0.5em 0.4em;box-sizing: border-box;padding-bottom: 0.4em;background-color: white;}#sk-container-id-3 div.sk-label label {font-family: monospace;font-weight: bold;display: inline-block;line-height: 1.2em;}#sk-container-id-3 div.sk-label-container {text-align: center;}#sk-container-id-3 div.sk-container {/* jupyter's `normalize.less` sets `[hidden] { display: none; }` but bootstrap.min.css set `[hidden] { display: none !important; }` so we also need the `!important` here to be able to override the default hidden behavior on the sphinx rendered scikit-learn.org. See: https://github.com/scikit-learn/scikit-learn/issues/21755 */display: inline-block !important;position: relative;}#sk-container-id-3 div.sk-text-repr-fallback {display: none;}</style><div id=\"sk-container-id-3\" class=\"sk-top-container\"><div class=\"sk-text-repr-fallback\"><pre>LinearRegression()</pre><b>In a Jupyter environment, please rerun this cell to show the HTML representation or trust the notebook. <br />On GitHub, the HTML representation is unable to render, please try loading this page with nbviewer.org.</b></div><div class=\"sk-container\" hidden><div class=\"sk-item\"><div class=\"sk-estimator sk-toggleable\"><input class=\"sk-toggleable__control sk-hidden--visually\" id=\"sk-estimator-id-3\" type=\"checkbox\" checked><label for=\"sk-estimator-id-3\" class=\"sk-toggleable__label sk-toggleable__label-arrow\">LinearRegression</label><div class=\"sk-toggleable__content\"><pre>LinearRegression()</pre></div></div></div></div></div>"
      ],
      "text/plain": [
       "LinearRegression()"
      ]
     },
     "execution_count": 5,
     "metadata": {},
     "output_type": "execute_result"
    }
   ],
   "source": [
    "# a simple linear model\n",
    "model = sklearn.linear_model.LinearRegression()\n",
    "model.fit(X, y)"
   ]
  },
  {
   "cell_type": "markdown",
   "id": "df4f90b0-13fa-408b-b82b-fd6749f4210c",
   "metadata": {},
   "source": [
    "The most common way of understanding a linear model is to examine the coefficients learned for each feature. "
   ]
  },
  {
   "cell_type": "code",
   "execution_count": 6,
   "id": "b4d84138-f12b-4945-83b6-7047621b5fd5",
   "metadata": {},
   "outputs": [
    {
     "name": "stdout",
     "output_type": "stream",
     "text": [
      "Model coefficients:\n",
      "\n",
      "MedInc = 0.42563\n",
      "HouseAge = 0.01033\n",
      "AveRooms = -0.1161\n",
      "AveBedrms = 0.66385\n",
      "Population = 3e-05\n",
      "AveOccup = -0.26096\n",
      "Latitude = -0.46734\n",
      "Longitude = -0.46272\n"
     ]
    }
   ],
   "source": [
    "print(\"Model coefficients:\\n\")\n",
    "for i in range(X.shape[1]):\n",
    "    print(X.columns[i], \"=\", model.coef_[i].round(5))"
   ]
  },
  {
   "cell_type": "markdown",
   "id": "8fc0eafb-15c1-4f3a-b13a-2203386b098a",
   "metadata": {},
   "source": [
    "While coefficients are great for telling us what will happen when we change the value of an input feature, by themselves they are not a great way to measure the overall importance of a feature. This is because the value of each coefficient depends on the scale of the input features. If for example we were to measure the age of a home in minutes instead of years, then the coefficients for the HouseAge feature would become 0.0115 / (365∗24∗60) = 2.18e-8. Clearly the number of years since a house was built is not more important than the number of minutes, yet its coefficient value is much larger. This means that the magnitude of a coefficient is not necessarily a good measure of a feature’s importance in a linear model."
   ]
  },
  {
   "cell_type": "markdown",
   "id": "f59e0db4-c005-4dc4-98b3-945f8d1ac1f7",
   "metadata": {},
   "source": [
    "## A more complete picture using partial dependence plots\n",
    "\n",
    "To understand a feature’s importance in a model, it is necessary to understand both how changing that feature impacts the model’s output, and also the distribution of that feature’s values. To visualize this for a linear model we can build a classical partial dependence plot and show the distribution of feature values as a histogram on the x-axis:"
   ]
  },
  {
   "cell_type": "code",
   "execution_count": 8,
   "id": "e54cf80d-79b2-451a-8075-dea7c11809c4",
   "metadata": {},
   "outputs": [
    {
     "data": {
      "image/png": "[encoded data removed]",
      "text/plain": [
       "<Figure size 640x480 with 4 Axes>"
      ]
     },
     "metadata": {},
     "output_type": "display_data"
    }
   ],
   "source": [
    "shap.partial_dependence_plot(\n",
    "    \"MedInc\",\n",
    "    model.predict,\n",
    "    X100,\n",
    "    ice=False,\n",
    "    model_expected_value=True,\n",
    "    feature_expected_value=True,\n",
    ")"
   ]
  },
  {
   "cell_type": "code",
   "execution_count": 31,
   "id": "4dbc8ccb-3bee-4c41-9284-0d4bdf7fca3a",
   "metadata": {},
   "outputs": [
    {
     "name": "stdout",
     "output_type": "stream",
     "text": [
      "mean value of 'MedInc' 3.73\n",
      "mean model prediction for 'MedInc' (setting all other features to their mean value): 1.90\n"
     ]
    }
   ],
   "source": [
    "# verify\n",
    "\n",
    "tmp = X100.copy(deep=True)\n",
    "for c in tmp.columns:\n",
    "    if c == \"MedInc\":\n",
    "        pass\n",
    "    else:\n",
    "        tmp[c] = [tmp[c].mean() for i in range(len(X100))]\n",
    "\n",
    "print(f\"mean value of 'MedInc' {np.mean(X100.MedInc) :.2f}\")\n",
    "print(f\"mean model prediction for 'MedInc' (setting all other features to their mean value): {model.predict(tmp).mean() :.2f}\")"
   ]
  },
  {
   "cell_type": "code",
   "execution_count": null,
   "id": "cf9c0145-aa30-420e-98a2-4b1f87727c04",
   "metadata": {},
   "outputs": [],
   "source": []
  },
  {
   "cell_type": "code",
   "execution_count": null,
   "id": "8e4955cd-b3c6-40b3-b082-7fbafa68c24d",
   "metadata": {},
   "outputs": [],
   "source": []
  },
  {
   "cell_type": "code",
   "execution_count": null,
   "id": "5a47d2f5-ba11-4dbc-b40c-2c19dc7eb5b7",
   "metadata": {},
   "outputs": [],
   "source": []
  }
 ],
 "metadata": {
  "kernelspec": {
   "display_name": "Python 3 (ipykernel)",
   "language": "python",
   "name": "python3"
  },
  "language_info": {
   "codemirror_mode": {
    "name": "ipython",
    "version": 3
   },
   "file_extension": ".py",
   "mimetype": "text/x-python",
   "name": "python",
   "nbconvert_exporter": "python",
   "pygments_lexer": "ipython3",
   "version": "3.11.8"
  }
 },
 "nbformat": 4,
 "nbformat_minor": 5
}
