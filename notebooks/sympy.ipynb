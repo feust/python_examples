{
 "cells": [
  {
   "cell_type": "code",
   "execution_count": 1,
   "id": "334ca54c-c0e6-49ad-bf1b-0b7cc6e65700",
   "metadata": {},
   "outputs": [],
   "source": [
    "from sympy import *"
   ]
  },
  {
   "cell_type": "code",
   "execution_count": 2,
   "id": "ca50b981-b460-4bf5-be99-d0e4fc6b9089",
   "metadata": {},
   "outputs": [],
   "source": [
    "x = symbols('x')"
   ]
  },
  {
   "cell_type": "code",
   "execution_count": 3,
   "id": "63099db4-9d1e-4534-a128-1c7c3441be84",
   "metadata": {},
   "outputs": [
    {
     "data": {
      "text/latex": [
       "$\\displaystyle \\int e^{x} \\cos{\\left(x \\right)}\\, dx = \\frac{e^{x} \\sin{\\left(x \\right)}}{2} + \\frac{e^{x} \\cos{\\left(x \\right)}}{2}$"
      ],
      "text/plain": [
       "Eq(Integral(exp(x)*cos(x), x), exp(x)*sin(x)/2 + exp(x)*cos(x)/2)"
      ]
     },
     "execution_count": 3,
     "metadata": {},
     "output_type": "execute_result"
    }
   ],
   "source": [
    "a = Integral(cos(x)*exp(x), x)\n",
    "Eq(a, a.doit())"
   ]
  },
  {
   "cell_type": "code",
   "execution_count": 4,
   "id": "eaa11ce8-692e-4a54-a43b-4f4b1ec6aaf0",
   "metadata": {},
   "outputs": [],
   "source": [
    "import sympy\n",
    "from sympy import symbols"
   ]
  },
  {
   "cell_type": "code",
   "execution_count": 5,
   "id": "d0303ffc-3880-4853-8d4e-5b4551cf10bc",
   "metadata": {},
   "outputs": [],
   "source": [
    "mu, x1, x2, x3, n1, n2, n3 = symbols('mu x1 x2 x3 n1 n2 n3')"
   ]
  },
  {
   "cell_type": "code",
   "execution_count": 6,
   "id": "103cc441-c765-40ed-9b97-e8df82d3cce1",
   "metadata": {},
   "outputs": [
    {
     "data": {
      "text/latex": [
       "$\\displaystyle \\frac{x_{1} + x_{2} + x_{3}}{n_{1} + n_{2} + n_{3}}$"
      ],
      "text/plain": [
       "(x1 + x2 + x3)/(n1 + n2 + n3)"
      ]
     },
     "execution_count": 6,
     "metadata": {},
     "output_type": "execute_result"
    }
   ],
   "source": [
    "mu = (x1+x2+x3)/(n1+n2+n3)\n",
    "mu"
   ]
  },
  {
   "cell_type": "code",
   "execution_count": 7,
   "id": "d43ebee9-2072-4cf1-8879-09eff9545dac",
   "metadata": {},
   "outputs": [
    {
     "data": {
      "text/latex": [
       "$\\displaystyle \\frac{1}{n_{1} + n_{2} + n_{3}}$"
      ],
      "text/plain": [
       "1/(n1 + n2 + n3)"
      ]
     },
     "execution_count": 7,
     "metadata": {},
     "output_type": "execute_result"
    }
   ],
   "source": [
    "diff(mu, x1)"
   ]
  },
  {
   "cell_type": "code",
   "execution_count": 8,
   "id": "8f545084-e5ba-4b6b-af0d-46245cdc8764",
   "metadata": {},
   "outputs": [
    {
     "data": {
      "text/latex": [
       "$\\displaystyle \\frac{1}{n_{1} + n_{2} + n_{3}}$"
      ],
      "text/plain": [
       "1/(n1 + n2 + n3)"
      ]
     },
     "execution_count": 8,
     "metadata": {},
     "output_type": "execute_result"
    }
   ],
   "source": [
    "diff(mu, x2)"
   ]
  },
  {
   "cell_type": "code",
   "execution_count": 9,
   "id": "fdeb119b-71f2-48f6-a361-515e78208da8",
   "metadata": {},
   "outputs": [
    {
     "data": {
      "text/latex": [
       "$\\displaystyle - \\frac{x_{1} + x_{2} + x_{3}}{\\left(n_{1} + n_{2} + n_{3}\\right)^{2}}$"
      ],
      "text/plain": [
       "-(x1 + x2 + x3)/(n1 + n2 + n3)**2"
      ]
     },
     "execution_count": 9,
     "metadata": {},
     "output_type": "execute_result"
    }
   ],
   "source": [
    "diff(mu, n1)"
   ]
  },
  {
   "cell_type": "code",
   "execution_count": 10,
   "id": "0a7e6f44-e7c5-4d41-9756-a02e4e3c08ec",
   "metadata": {},
   "outputs": [
    {
     "data": {
      "text/latex": [
       "$\\displaystyle - \\frac{x_{1} + x_{2} + x_{3}}{\\left(n_{1} + n_{2} + n_{3}\\right)^{2}}$"
      ],
      "text/plain": [
       "-(x1 + x2 + x3)/(n1 + n2 + n3)**2"
      ]
     },
     "execution_count": 10,
     "metadata": {},
     "output_type": "execute_result"
    }
   ],
   "source": [
    "diff(mu, n2)"
   ]
  },
  {
   "cell_type": "code",
   "execution_count": null,
   "id": "a073c9dc-257e-4554-bf39-b395dd384339",
   "metadata": {},
   "outputs": [],
   "source": []
  },
  {
   "cell_type": "code",
   "execution_count": null,
   "id": "bf3d4933-7919-48a1-802d-082593f7f1be",
   "metadata": {},
   "outputs": [],
   "source": []
  },
  {
   "cell_type": "code",
   "execution_count": null,
   "id": "e0057a87-dfe7-4302-84ef-b1a4e3d5d988",
   "metadata": {},
   "outputs": [],
   "source": []
  }
 ],
 "metadata": {
  "kernelspec": {
   "display_name": "Python 3 (ipykernel)",
   "language": "python",
   "name": "python3"
  },
  "language_info": {
   "codemirror_mode": {
    "name": "ipython",
    "version": 3
   },
   "file_extension": ".py",
   "mimetype": "text/x-python",
   "name": "python",
   "nbconvert_exporter": "python",
   "pygments_lexer": "ipython3",
   "version": "3.10.5"
  }
 },
 "nbformat": 4,
 "nbformat_minor": 5
}
