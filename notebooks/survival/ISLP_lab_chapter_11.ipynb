{
 "cells": [
  {
   "cell_type": "markdown",
   "id": "62a1a218",
   "metadata": {},
   "source": [
    "\n",
    "# Chapter 11\n",
    "\n"
   ]
  },
  {
   "cell_type": "markdown",
   "id": "9da89fbb",
   "metadata": {},
   "source": [
    "# Lab: Survival Analysis\n",
    " In this lab, we perform survival analyses on three separate data\n",
    "sets. In  Section 11.8.1 we analyze the  `BrainCancer` \n",
    "data  that was first described in Section 11.3. In Section 11.8.2, we examine the  `Publication` \n",
    "data  from Section 11.5.4. Finally,  Section 11.8.3  explores\n",
    "a simulated call-center data set.\n",
    "\n",
    "We begin by importing some of our libraries at this top\n",
    "level. This makes the code more readable, as scanning the first few\n",
    "lines of the notebook tell us what libraries are used in this\n",
    "notebook."
   ]
  },
  {
   "cell_type": "code",
   "execution_count": null,
   "id": "d2d71add",
   "metadata": {},
   "outputs": [],
   "source": [
    "from matplotlib.pyplot import subplots\n",
    "import numpy as np\n",
    "import pandas as pd\n",
    "from ISLP.models import ModelSpec as MS\n",
    "from ISLP import load_data\n"
   ]
  },
  {
   "cell_type": "markdown",
   "id": "70fe80b5",
   "metadata": {},
   "source": [
    "We  also collect the new imports\n",
    "needed for this lab."
   ]
  },
  {
   "cell_type": "code",
   "execution_count": null,
   "id": "994efc94",
   "metadata": {},
   "outputs": [],
   "source": [
    "from lifelines import \\\n",
    "     (KaplanMeierFitter,\n",
    "      CoxPHFitter)\n",
    "from lifelines.statistics import \\\n",
    "     (logrank_test,\n",
    "      multivariate_logrank_test)\n",
    "from ISLP.survival import sim_time\n"
   ]
  },
  {
   "cell_type": "markdown",
   "id": "e65a4796",
   "metadata": {},
   "source": [
    "## Brain Cancer Data\n",
    "\n",
    "We begin with the `BrainCancer` data set, contained in the `ISLP` package."
   ]
  },
  {
   "cell_type": "code",
   "execution_count": null,
   "id": "9d41ddea",
   "metadata": {},
   "outputs": [],
   "source": [
    "BrainCancer = load_data('BrainCancer')\n",
    "BrainCancer.columns\n"
   ]
  },
  {
   "cell_type": "code",
   "execution_count": null,
   "id": "6c6f0f5b-73a8-46e2-95b3-2ea5a7e22cf1",
   "metadata": {},
   "outputs": [],
   "source": [
    "BrainCancer.head()"
   ]
  },
  {
   "cell_type": "markdown",
   "id": "4ac65a33",
   "metadata": {},
   "source": [
    "The rows index the 88 patients, while the 8 columns contain the predictors and outcome variables.\n",
    "We first briefly examine the data."
   ]
  },
  {
   "cell_type": "code",
   "execution_count": null,
   "id": "2bece782",
   "metadata": {
    "lines_to_next_cell": 2
   },
   "outputs": [],
   "source": [
    "BrainCancer['sex'].value_counts()\n"
   ]
  },
  {
   "cell_type": "code",
   "execution_count": null,
   "id": "9ca465e5",
   "metadata": {
    "lines_to_next_cell": 2
   },
   "outputs": [],
   "source": [
    "BrainCancer['diagnosis'].value_counts()\n"
   ]
  },
  {
   "cell_type": "code",
   "execution_count": null,
   "id": "33bc4d3c",
   "metadata": {
    "lines_to_next_cell": 2
   },
   "outputs": [],
   "source": [
    "BrainCancer['status'].value_counts()\n"
   ]
  },
  {
   "cell_type": "markdown",
   "id": "eb9c6d4f",
   "metadata": {},
   "source": [
    "Before beginning an analysis, it is important to know how the\n",
    "`status` variable has been coded.  Most software\n",
    "uses the convention that a `status` of 1 indicates an\n",
    "uncensored observation (often death), and a `status` of 0 indicates a censored\n",
    "observation. But some scientists might use the opposite coding. For\n",
    "the  `BrainCancer`  data set 35 patients died before the end of\n",
    "the study, so we are using the conventional coding.\n",
    "\n",
    "To begin the analysis, we re-create  the Kaplan-Meier survival curve shown in Figure 11.2. The main\n",
    "package we will use for survival analysis\n",
    "is `lifelines`.\n",
    "The variable  `time`  corresponds to $y_i$, the time to the $i$th event (either censoring or\n",
    "death). The first argument to `km.fit` is the event time, and the\n",
    "second argument is the censoring variable, with a 1 indicating an observed\n",
    "failure time. The `plot()` method produces a survival curve with pointwise confidence\n",
    "intervals. By default, these are  90% confidence intervals, but this can be changed\n",
    "by setting the `alpha` argument to one minus the desired\n",
    "confidence level."
   ]
  },
  {
   "cell_type": "code",
   "execution_count": null,
   "id": "0b6dba70",
   "metadata": {},
   "outputs": [],
   "source": [
    "fig, ax = subplots(figsize=(8,8))\n",
    "km = KaplanMeierFitter()\n",
    "km_brain = km.fit(BrainCancer['time'], BrainCancer['status'])\n",
    "km_brain.plot(label='Kaplan Meier estimate', ax=ax)\n"
   ]
  },
  {
   "cell_type": "markdown",
   "id": "2cc511cd",
   "metadata": {},
   "source": [
    "Next we create Kaplan-Meier survival curves that are stratified by\n",
    "`sex`, in order to reproduce  Figure 11.3.\n",
    "We  do this using the `groupby()` method of  a  dataframe.\n",
    "This  method returns a generator that can\n",
    "be  iterated over in the `for` loop. In this case,\n",
    "the  items  in the `for` loop are  2-tuples  representing\n",
    "the groups: the first entry is the  value\n",
    "of the grouping column  `sex` while the  second  value\n",
    "is the dataframe consisting of all  rows in the\n",
    "dataframe matching that value of `sex`.\n",
    "We will want to use this data below\n",
    "in the log-rank test,  hence we store this\n",
    "information in the dictionary `by_sex`. Finally,\n",
    "we have also used the notion of\n",
    " *string interpolation* to automatically\n",
    "label the  different lines in the  plot. String\n",
    "interpolation is a powerful technique to format strings ---\n",
    "`Python` has many ways to facilitate such operations."
   ]
  },
  {
   "cell_type": "code",
   "execution_count": null,
   "id": "9e6f2e70",
   "metadata": {},
   "outputs": [],
   "source": [
    "fig, ax = subplots(figsize=(8,8))\n",
    "by_sex = {}\n",
    "for sex, df in BrainCancer.groupby('sex'):\n",
    "    by_sex[sex] = df\n",
    "    km_sex = km.fit(df['time'], df['status'])\n",
    "    km_sex.plot(label='Sex=%s' % sex, ax=ax)\n"
   ]
  },
  {
   "cell_type": "markdown",
   "id": "4d7efefb",
   "metadata": {},
   "source": [
    "As discussed in Section 11.4, we can perform a\n",
    "log-rank test to compare the survival of males to females. We use\n",
    "the `logrank_test()` function from the `lifelines.statistics` module.\n",
    "The first two arguments are the event times, with the second\n",
    "denoting the corresponding (optional) censoring indicators."
   ]
  },
  {
   "cell_type": "code",
   "execution_count": null,
   "id": "c135f7aa",
   "metadata": {
    "lines_to_next_cell": 2
   },
   "outputs": [],
   "source": [
    "logrank_test(by_sex['Male']['time'],\n",
    "             by_sex['Female']['time'],\n",
    "             by_sex['Male']['status'],\n",
    "             by_sex['Female']['status'])\n"
   ]
  },
  {
   "cell_type": "markdown",
   "id": "bd14317d",
   "metadata": {},
   "source": [
    "The resulting $p$-value is $0.23$, indicating no evidence of a\n",
    "difference in survival between the two sexes.\n",
    "\n",
    "Next, we  use the `CoxPHFitter()`  estimator\n",
    "from `lifelines` to fit Cox proportional hazards models.\n",
    "To begin, we consider a model that uses  `sex`  as the only predictor."
   ]
  },
  {
   "cell_type": "code",
   "execution_count": null,
   "id": "5f9303dd",
   "metadata": {},
   "outputs": [],
   "source": [
    "coxph = CoxPHFitter # shorthand\n",
    "sex_df = BrainCancer[['time', 'status', 'sex']]\n",
    "model_df = MS(['time', 'status', 'sex'],\n",
    "              intercept=False).fit_transform(sex_df)\n",
    "cox_fit = coxph().fit(model_df,\n",
    "                      'time',\n",
    "                      'status')\n",
    "cox_fit.summary[['coef', 'se(coef)', 'p']]\n"
   ]
  },
  {
   "cell_type": "markdown",
   "id": "7e56e83e",
   "metadata": {},
   "source": [
    "The first argument to `fit` should be a data frame containing\n",
    "at least the event time (the second argument `time` in this case),\n",
    "as well as an optional censoring variable (the argument `status` in this case).\n",
    "Note also that the Cox model does not include an intercept, which is why\n",
    "we used the `intercept=False` argument to `ModelSpec` above.\n",
    "The `summary()` method delivers many columns; we chose to abbreviate its output here.\n",
    "It is possible to obtain the likelihood ratio test comparing this model to the one\n",
    "with no features as follows:"
   ]
  },
  {
   "cell_type": "code",
   "execution_count": null,
   "id": "bcc8470c",
   "metadata": {},
   "outputs": [],
   "source": [
    "cox_fit.log_likelihood_ratio_test()\n"
   ]
  },
  {
   "cell_type": "markdown",
   "id": "2e6163ca",
   "metadata": {},
   "source": [
    "Regardless of which test we use, we see that there is no clear\n",
    "evidence for a difference in survival between males and females.  As\n",
    "we learned in this chapter, the score test from the Cox model is\n",
    "exactly equal to the log rank test statistic!\n",
    "\n",
    "Now we fit a  model that makes use of additional predictors. We first note\n",
    "that one of our `diagnosis` values is missing, hence\n",
    "we drop that observation before continuing."
   ]
  },
  {
   "cell_type": "code",
   "execution_count": null,
   "id": "c26a3499",
   "metadata": {},
   "outputs": [],
   "source": [
    "cleaned = BrainCancer.dropna()\n",
    "all_MS = MS(cleaned.columns, intercept=False)\n",
    "all_df = all_MS.fit_transform(cleaned)\n",
    "fit_all = coxph().fit(all_df,\n",
    "                      'time',\n",
    "                      'status')\n",
    "fit_all.summary[['coef', 'se(coef)', 'p']]\n"
   ]
  },
  {
   "cell_type": "markdown",
   "id": "a96e311c",
   "metadata": {},
   "source": [
    " The `diagnosis` variable has been coded so that the baseline\n",
    "corresponds to HG glioma. The results indicate that the risk associated with HG glioma\n",
    "is more than eight times (i.e. $e^{2.15}=8.62$) the risk associated\n",
    "with meningioma. In other words, after adjusting for the other\n",
    "predictors, patients with HG glioma have much worse survival compared\n",
    "to those with meningioma.  In addition, larger values of the Karnofsky\n",
    "index, `ki`, are associated with lower risk, i.e. longer survival.\n",
    "\n",
    "Finally, we plot estimated survival curves for each diagnosis category,\n",
    "adjusting for the other predictors.  To make these plots, we set the\n",
    "values of the other predictors equal to the mean for quantitative variables\n",
    "and equal to the mode for categorical. To do this, we use the\n",
    "`apply()` method across rows (i.e. `axis=0`) with a function\n",
    "`representative` that checks if a column is categorical\n",
    "or not."
   ]
  },
  {
   "cell_type": "code",
   "execution_count": null,
   "id": "8d999f26",
   "metadata": {},
   "outputs": [],
   "source": [
    "levels = cleaned['diagnosis'].unique()\n",
    "def representative(series):\n",
    "    if hasattr(series.dtype, 'categories'):\n",
    "        return pd.Series.mode(series)\n",
    "    else:\n",
    "        return series.mean()\n",
    "modal_data = cleaned.apply(representative, axis=0)\n"
   ]
  },
  {
   "cell_type": "markdown",
   "id": "bf628fd8",
   "metadata": {},
   "source": [
    "We make four\n",
    "copies of the column means and assign the `diagnosis` column to be the four different\n",
    "diagnoses."
   ]
  },
  {
   "cell_type": "code",
   "execution_count": null,
   "id": "a1f6b355",
   "metadata": {},
   "outputs": [],
   "source": [
    "modal_df = pd.DataFrame(\n",
    "              [modal_data.iloc[0] for _ in range(len(levels))])\n",
    "modal_df['diagnosis'] = levels\n",
    "modal_df\n"
   ]
  },
  {
   "cell_type": "markdown",
   "id": "3f6334e4",
   "metadata": {},
   "source": [
    "We then construct the model matrix based on the model specification `all_MS` used to fit\n",
    "the model, and name the rows according to the levels of `diagnosis`."
   ]
  },
  {
   "cell_type": "code",
   "execution_count": null,
   "id": "a1a9d5b3",
   "metadata": {},
   "outputs": [],
   "source": [
    "modal_X = all_MS.transform(modal_df)\n",
    "modal_X.index = levels\n",
    "modal_X\n"
   ]
  },
  {
   "cell_type": "markdown",
   "id": "3eaec7e6",
   "metadata": {},
   "source": [
    "We can use the `predict_survival_function()` method to obtain the estimated survival function."
   ]
  },
  {
   "cell_type": "code",
   "execution_count": null,
   "id": "1a18b56a",
   "metadata": {
    "lines_to_next_cell": 0
   },
   "outputs": [],
   "source": [
    "predicted_survival = fit_all.predict_survival_function(modal_X)\n",
    "predicted_survival\n"
   ]
  },
  {
   "cell_type": "markdown",
   "id": "7d533f90",
   "metadata": {},
   "source": [
    "This returns a data frame,\n",
    "whose plot methods yields the different survival curves. To avoid clutter in\n",
    "the plots, we do not display confidence intervals."
   ]
  },
  {
   "cell_type": "code",
   "execution_count": null,
   "id": "ff3de29c",
   "metadata": {
    "lines_to_next_cell": 2
   },
   "outputs": [],
   "source": [
    "fig, ax = subplots(figsize=(8, 8))\n",
    "predicted_survival.plot(ax=ax);\n"
   ]
  },
  {
   "cell_type": "markdown",
   "id": "e660793e",
   "metadata": {},
   "source": [
    "## Publication Data\n",
    "The  `Publication`  data   presented in Section 11.5.4  can be\n",
    "found in the `ISLP` package.\n",
    "We first reproduce Figure 11.5  by plotting the Kaplan-Meier curves\n",
    "stratified on the  `posres`  variable, which records whether the\n",
    "study had a positive or negative result."
   ]
  },
  {
   "cell_type": "code",
   "execution_count": null,
   "id": "cd9060c1",
   "metadata": {},
   "outputs": [],
   "source": [
    "fig, ax = subplots(figsize=(8,8))\n",
    "Publication = load_data('Publication')\n",
    "by_result = {}\n",
    "for result, df in Publication.groupby('posres'):\n",
    "    by_result[result] = df\n",
    "    km_result = km.fit(df['time'], df['status'])\n",
    "    km_result.plot(label='Result=%d' % result, ax=ax)\n"
   ]
  },
  {
   "cell_type": "markdown",
   "id": "d8f0f687",
   "metadata": {},
   "source": [
    "As discussed previously, the $p$-values from fitting Cox’s\n",
    "proportional hazards model to the `posres` variable are quite\n",
    "large, providing no evidence of a difference in time-to-publication\n",
    "between studies with positive versus negative results."
   ]
  },
  {
   "cell_type": "code",
   "execution_count": null,
   "id": "6af7106e",
   "metadata": {
    "lines_to_next_cell": 2
   },
   "outputs": [],
   "source": [
    "posres_df = MS(['posres',\n",
    "                'time',\n",
    "                'status'],\n",
    "                intercept=False).fit_transform(Publication)\n",
    "posres_fit = coxph().fit(posres_df,\n",
    "                         'time',\n",
    "                         'status')\n",
    "posres_fit.summary[['coef', 'se(coef)', 'p']]\n"
   ]
  },
  {
   "cell_type": "markdown",
   "id": "8ef28b8b",
   "metadata": {},
   "source": [
    "However, the results change dramatically when we include other\n",
    "predictors in the model. Here we exclude the funding mechanism\n",
    "variable."
   ]
  },
  {
   "cell_type": "code",
   "execution_count": null,
   "id": "b6ebefa7",
   "metadata": {},
   "outputs": [],
   "source": [
    "model = MS(Publication.columns.drop('mech'),\n",
    "           intercept=False)\n",
    "coxph().fit(model.fit_transform(Publication),\n",
    "            'time',\n",
    "            'status').summary[['coef', 'se(coef)', 'p']]\n"
   ]
  },
  {
   "cell_type": "markdown",
   "id": "d463e623",
   "metadata": {},
   "source": [
    "We see that there are a number of statistically significant variables,\n",
    "including whether the trial focused on a clinical endpoint, the impact\n",
    "of the study, and whether the study had positive or negative results."
   ]
  },
  {
   "cell_type": "markdown",
   "id": "a23c38e0",
   "metadata": {},
   "source": [
    "## Call Center Data\n",
    "\n",
    "In this section, we will simulate survival data using the relationship\n",
    "between cumulative hazard and\n",
    "the survival function explored in Exercise 8.\n",
    "Our simulated data will represent the observed\n",
    "wait times (in seconds) for 2,000 customers who have phoned a call\n",
    "center.  In this context, censoring occurs if a customer hangs up\n",
    "before his or her call is answered.\n",
    "\n",
    "There are three covariates: `Operators` (the number of call\n",
    "center operators available at the time of the call, which can range\n",
    "from $5$ to $15$), `Center` (either A, B, or C), and\n",
    "`Time` of day (Morning, Afternoon, or Evening). We generate data\n",
    "for these covariates so that all possibilities are equally likely: for\n",
    "instance, morning, afternoon and evening calls are equally likely, and\n",
    "any number of operators from $5$ to $15$ is equally likely. "
   ]
  },
  {
   "cell_type": "code",
   "execution_count": null,
   "id": "098f42ea",
   "metadata": {},
   "outputs": [],
   "source": [
    "rng = np.random.default_rng(10)\n",
    "N = 2000\n",
    "Operators = rng.choice(np.arange(5, 16),\n",
    "                       N,\n",
    "                       replace=True)\n",
    "Center = rng.choice(['A', 'B', 'C'],\n",
    "                    N,\n",
    "                    replace=True)\n",
    "Time = rng.choice(['Morn.', 'After.', 'Even.'],\n",
    "                   N,\n",
    "                   replace=True)\n",
    "D = pd.DataFrame({'Operators': Operators,\n",
    "                  'Center': pd.Categorical(Center),\n",
    "                  'Time': pd.Categorical(Time)})"
   ]
  },
  {
   "cell_type": "markdown",
   "id": "2f54ed03",
   "metadata": {},
   "source": [
    "We then build a model matrix (omitting the intercept)"
   ]
  },
  {
   "cell_type": "code",
   "execution_count": null,
   "id": "26d5d0d0",
   "metadata": {},
   "outputs": [],
   "source": [
    "model = MS(['Operators',\n",
    "            'Center',\n",
    "            'Time'],\n",
    "           intercept=False)\n",
    "X = model.fit_transform(D)"
   ]
  },
  {
   "cell_type": "markdown",
   "id": "a1a8f65d",
   "metadata": {},
   "source": [
    "It is worthwhile to take a peek at the model matrix `X`, so\n",
    "that we can be sure that we understand how the variables have been coded. By default,\n",
    "the levels of categorical variables are sorted and, as usual, the first column of the one-hot encoding\n",
    "of the variable is dropped."
   ]
  },
  {
   "cell_type": "code",
   "execution_count": null,
   "id": "77500663",
   "metadata": {},
   "outputs": [],
   "source": [
    "X[:5]\n"
   ]
  },
  {
   "cell_type": "markdown",
   "id": "fd7bd61c",
   "metadata": {},
   "source": [
    "Next,  we specify the coefficients and the hazard function."
   ]
  },
  {
   "cell_type": "code",
   "execution_count": null,
   "id": "74324a56",
   "metadata": {},
   "outputs": [],
   "source": [
    "true_beta = np.array([0.04, -0.3, 0, 0.2, -0.2])\n",
    "true_linpred = X.dot(true_beta)\n",
    "hazard = lambda t: 1e-5 * t\n"
   ]
  },
  {
   "cell_type": "markdown",
   "id": "cfe879e6",
   "metadata": {},
   "source": [
    "Here, we have set the coefficient associated with `Operators` to\n",
    "equal $0.04$; in other words, each additional operator leads to a\n",
    "$e^{0.04}=1.041$-fold increase in the “risk” that the call will be\n",
    "answered, given the `Center` and `Time` covariates. This\n",
    "makes sense: the greater the number of operators at hand, the shorter\n",
    "the wait time! The coefficient associated with `Center == B` is\n",
    "$-0.3$, and `Center == A` is treated as the baseline. This means\n",
    "that the risk of a call being answered at Center B is 0.74 times the\n",
    "risk that it will be answered at Center A; in other words, the wait\n",
    "times are a bit longer at Center B.\n",
    "\n",
    "Recall from Section 2.3.7 the use of `lambda`\n",
    "for creating short functions on the fly.\n",
    "We use the function\n",
    "`sim_time()` from the `ISLP.survival` package. This function\n",
    "uses the relationship between the survival function\n",
    "and cumulative hazard $S(t) = \\exp(-H(t))$ and the specific\n",
    "form of the cumulative hazard function in the Cox model\n",
    "to simulate data based on values of the linear predictor\n",
    "`true_linpred` and the cumulative hazard. \n",
    " We need to provide the cumulative hazard function, which we do here."
   ]
  },
  {
   "cell_type": "code",
   "execution_count": null,
   "id": "d4be10c2",
   "metadata": {
    "lines_to_next_cell": 0
   },
   "outputs": [],
   "source": [
    "cum_hazard = lambda t: 1e-5 * t**2 / 2\n"
   ]
  },
  {
   "cell_type": "markdown",
   "id": "6095cfc1",
   "metadata": {},
   "source": [
    "We are now ready to generate data under the Cox proportional hazards\n",
    "model. We truncate the maximum time to 1000 seconds to keep\n",
    "simulated wait times reasonable. The function\n",
    "`sim_time()` takes a linear predictor,\n",
    "a cumulative hazard function and a\n",
    "random number generator."
   ]
  },
  {
   "cell_type": "code",
   "execution_count": null,
   "id": "c98d396f",
   "metadata": {},
   "outputs": [],
   "source": [
    "W = np.array([sim_time(l, cum_hazard, rng)\n",
    "              for l in true_linpred])\n",
    "D['Wait time'] = np.clip(W, 0, 1000)\n"
   ]
  },
  {
   "cell_type": "markdown",
   "id": "ed2e23ea",
   "metadata": {},
   "source": [
    "We now simulate our censoring variable, for which we assume\n",
    "90% of calls were answered (`Failed==1`) before the\n",
    "customer hung up (`Failed==0`)."
   ]
  },
  {
   "cell_type": "code",
   "execution_count": null,
   "id": "caf627bc",
   "metadata": {
    "lines_to_next_cell": 2
   },
   "outputs": [],
   "source": [
    "D['Failed'] = rng.choice([1, 0],\n",
    "                         N,\n",
    "                         p=[0.9, 0.1])\n",
    "D[:5]\n"
   ]
  },
  {
   "cell_type": "code",
   "execution_count": null,
   "id": "e63242f9",
   "metadata": {},
   "outputs": [],
   "source": [
    "D['Failed'].mean()\n"
   ]
  },
  {
   "cell_type": "markdown",
   "id": "5f345011",
   "metadata": {},
   "source": [
    "We now plot  Kaplan-Meier survival curves. First, we stratify by `Center`."
   ]
  },
  {
   "cell_type": "code",
   "execution_count": null,
   "id": "338db71d",
   "metadata": {},
   "outputs": [],
   "source": [
    "fig, ax = subplots(figsize=(8,8))\n",
    "by_center = {}\n",
    "for center, df in D.groupby('Center'):\n",
    "    by_center[center] = df\n",
    "    km_center = km.fit(df['Wait time'], df['Failed'])\n",
    "    km_center.plot(label='Center=%s' % center, ax=ax)\n",
    "ax.set_title(\"Probability of Still Being on Hold\")\n"
   ]
  },
  {
   "cell_type": "markdown",
   "id": "1b5a1230",
   "metadata": {},
   "source": [
    "Next, we stratify by `Time`."
   ]
  },
  {
   "cell_type": "code",
   "execution_count": null,
   "id": "c1db6e15",
   "metadata": {},
   "outputs": [],
   "source": [
    "fig, ax = subplots(figsize=(8,8))\n",
    "by_time = {}\n",
    "for time, df in D.groupby('Time'):\n",
    "    by_time[time] = df\n",
    "    km_time = km.fit(df['Wait time'], df['Failed'])\n",
    "    km_time.plot(label='Time=%s' % time, ax=ax)\n",
    "ax.set_title(\"Probability of Still Being on Hold\")\n"
   ]
  },
  {
   "cell_type": "markdown",
   "id": "deb73d38",
   "metadata": {},
   "source": [
    "It seems that calls at Call Center B take longer to be answered than\n",
    "calls at Centers A and C. Similarly, it appears that wait times are\n",
    "longest in the morning and shortest in the evening hours. We can use a\n",
    "log-rank test to determine whether these differences are statistically\n",
    "significant using the function `multivariate_logrank_test()`."
   ]
  },
  {
   "cell_type": "code",
   "execution_count": null,
   "id": "02ea4212",
   "metadata": {
    "lines_to_next_cell": 2
   },
   "outputs": [],
   "source": [
    "multivariate_logrank_test(D['Wait time'],\n",
    "                          D['Center'],\n",
    "                          D['Failed'])\n"
   ]
  },
  {
   "cell_type": "markdown",
   "id": "db9cc6ee",
   "metadata": {},
   "source": [
    "Next, we consider the  effect of `Time`."
   ]
  },
  {
   "cell_type": "code",
   "execution_count": null,
   "id": "0ac610d5",
   "metadata": {
    "lines_to_next_cell": 2
   },
   "outputs": [],
   "source": [
    "multivariate_logrank_test(D['Wait time'],\n",
    "                          D['Time'],\n",
    "                          D['Failed'])\n"
   ]
  },
  {
   "cell_type": "markdown",
   "id": "0946d3ef",
   "metadata": {},
   "source": [
    "As in the case of a categorical variable with 2 levels, these\n",
    "results are similar to the likelihood ratio test\n",
    "from the Cox proportional hazards model. First, we\n",
    "look at the results for  `Center`."
   ]
  },
  {
   "cell_type": "code",
   "execution_count": null,
   "id": "107cedad",
   "metadata": {
    "lines_to_next_cell": 2
   },
   "outputs": [],
   "source": [
    "X = MS(['Wait time',\n",
    "        'Failed',\n",
    "        'Center'],\n",
    "        intercept=False).fit_transform(D)\n",
    "F = coxph().fit(X, 'Wait time', 'Failed')\n",
    "F.log_likelihood_ratio_test()\n"
   ]
  },
  {
   "cell_type": "markdown",
   "id": "10f2a0c1",
   "metadata": {},
   "source": [
    "Next, we look at the results for `Time`."
   ]
  },
  {
   "cell_type": "code",
   "execution_count": null,
   "id": "334eb331",
   "metadata": {
    "lines_to_next_cell": 2
   },
   "outputs": [],
   "source": [
    "X = MS(['Wait time',\n",
    "        'Failed',\n",
    "        'Time'],\n",
    "       intercept=False).fit_transform(D)\n",
    "F = coxph().fit(X, 'Wait time', 'Failed')\n",
    "F.log_likelihood_ratio_test()\n"
   ]
  },
  {
   "cell_type": "markdown",
   "id": "774963d4",
   "metadata": {},
   "source": [
    "We find that differences between centers are highly significant, as\n",
    "are differences between times of day.\n",
    "\n",
    "Finally, we fit Cox's proportional hazards model to the data."
   ]
  },
  {
   "cell_type": "code",
   "execution_count": null,
   "id": "421811c5",
   "metadata": {
    "lines_to_next_cell": 2
   },
   "outputs": [],
   "source": [
    "X = MS(D.columns,\n",
    "       intercept=False).fit_transform(D)\n",
    "fit_queuing = coxph().fit(\n",
    "                  X,\n",
    "                 'Wait time',\n",
    "                 'Failed')\n",
    "fit_queuing.summary[['coef', 'se(coef)', 'p']]\n"
   ]
  },
  {
   "cell_type": "markdown",
   "id": "3c65063f",
   "metadata": {},
   "source": [
    "The $p$-values for Center B and evening time\n",
    "are very small. It is also clear that the\n",
    "hazard --- that is, the instantaneous risk that a call will be\n",
    "answered --- increases with the number of operators. Since we\n",
    "generated the data ourselves, we know that the true coefficients for\n",
    " `Operators`, `Center = B`, `Center = C`, \n",
    "`Time = Even.` and `Time = Morn.`   are $0.04$, $-0.3$,\n",
    "$0$,   $0.2$, and $-0.2$, respectively. The coefficient estimates\n",
    "from the fitted Cox model are fairly accurate.\n",
    "\n"
   ]
  }
 ],
 "metadata": {
  "jupytext": {
   "cell_metadata_filter": "-all",
   "formats": "Rmd,ipynb",
   "main_language": "python"
  },
  "kernelspec": {
   "display_name": "Python 3 (ipykernel)",
   "language": "python",
   "name": "python3"
  },
  "language_info": {
   "codemirror_mode": {
    "name": "ipython",
    "version": 3
   },
   "file_extension": ".py",
   "mimetype": "text/x-python",
   "name": "python",
   "nbconvert_exporter": "python",
   "pygments_lexer": "ipython3",
   "version": "3.11.8"
  }
 },
 "nbformat": 4,
 "nbformat_minor": 5
}
